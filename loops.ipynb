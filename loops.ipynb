{
 "cells": [
  {
   "cell_type": "markdown",
   "metadata": {},
   "source": [
    "<h2 style=\"color:orange;\">While loop</h2>"
   ]
  },
  {
   "cell_type": "markdown",
   "metadata": {},
   "source": [
    "<p>The while loop is like a repeated if statement. The code is executed over and over again, as long as the condition is True. Have another look at its recipe.\n",
    "\n",
    "while condition :<br>\n",
    "    expression<br>\n",
    "Can you tell how many printouts the following while loop will do?<br>\n",
    "\n",
    "x = 1<br>\n",
    "while x < 4 :<br>\n",
    "    print(x)<br>\n",
    "    x = x + 1</p><br>\n",
    "\n",
    "   "
   ]
  },
  {
   "cell_type": "code",
   "execution_count": 1,
   "metadata": {},
   "outputs": [
    {
     "name": "stdout",
     "output_type": "stream",
     "text": [
      "1\n",
      "2\n",
      "3\n"
     ]
    }
   ],
   "source": [
    "x = 1\n",
    "while x < 4 :\n",
    "    print(x)\n",
    "    x = x + 1"
   ]
  },
  {
   "cell_type": "markdown",
   "metadata": {},
   "source": [
    " Correct! After 3 runs, x will be equal to 4, causing x < 4 to evaluate to False. This means that the while loop is executed 3 times, giving three printouts."
   ]
  },
  {
   "cell_type": "markdown",
   "metadata": {},
   "source": [
    "<li>Create the variable offset with an initial value of 8.</li>\n",
    "<li>Code a while loop that keeps running as long as offset is not equal to 0. Inside the while loop:</li>\n",
    "<li>Print out the sentence \"correcting...\".</li>\n",
    "<li>Next, decrease the value of offset by 1. You can do this with offset = offset - 1.</li>\n",
    "<li>Finally, still within your loop, print out offset so you can see how it changes.</li>"
   ]
  },
  {
   "cell_type": "code",
   "execution_count": 2,
   "metadata": {},
   "outputs": [
    {
     "name": "stdout",
     "output_type": "stream",
     "text": [
      "correcting...\n",
      "7\n",
      "correcting...\n",
      "6\n",
      "correcting...\n",
      "5\n",
      "correcting...\n",
      "4\n",
      "correcting...\n",
      "3\n",
      "correcting...\n",
      "2\n",
      "correcting...\n",
      "1\n",
      "correcting...\n",
      "0\n"
     ]
    }
   ],
   "source": [
    "# Initialize offset\n",
    "offset = 8\n",
    "\n",
    "\n",
    "# Code the while loop\n",
    "while offset != 0:\n",
    "    print('correcting...')\n",
    "    offset =offset - 1\n",
    "    print(offset)"
   ]
  },
  {
   "cell_type": "markdown",
   "metadata": {},
   "source": [
    "Inside the while loop, complete the if-else statement:<br>\n",
    "If offset is greater than zero, you should decrease offset by 1.<br>\n",
    "Else, you should increase offset by 1.<br>\n",
    "If you've coded things correctly, hitting Submit Answer should work this time.<br>\n",
    "If your code is still taking too long to run (or your session is expiring), you probably made a mistake. Check your code and make sure that the statement offset != 0 will eventually evaluate to FALSE!<br>"
   ]
  },
  {
   "cell_type": "code",
   "execution_count": 3,
   "metadata": {},
   "outputs": [
    {
     "name": "stdout",
     "output_type": "stream",
     "text": [
      "correcting...\n",
      "-5\n",
      "correcting...\n",
      "-4\n",
      "correcting...\n",
      "-3\n",
      "correcting...\n",
      "-2\n",
      "correcting...\n",
      "-1\n",
      "correcting...\n",
      "0\n"
     ]
    }
   ],
   "source": [
    "# Initialize offset\n",
    "offset = -6\n",
    "\n",
    "# Code the while loop\n",
    "while offset != 0 :\n",
    "    print(\"correcting...\")\n",
    "    if offset > 0 :\n",
    "      offset=offset-1\n",
    "    else : \n",
    "      offset=offset+1\n",
    "    print(offset)"
   ]
  },
  {
   "cell_type": "markdown",
   "metadata": {},
   "source": [
    "<span style=\"color:orange;font-weight:bold;\">Loop over the list</span>\n",
    "<p><br>\n",
    "fam = [1.73, 1.68, 1.71, 1.89]<br>\n",
    "for height in fam : <br>\n",
    "    print(height)<br>\n",
    "As usual, you simply have to indent the code with 4 spaces to tell Python which code should be executed in the for loop.<br>\n",
    "The areas variable, containing the area of different rooms in your house, is already defined.</p>\n",
    "\n",
    "<span>Write a for loop that iterates over all elements of the areas list and prints out every element separately.</span>"
   ]
  },
  {
   "cell_type": "code",
   "execution_count": 4,
   "metadata": {},
   "outputs": [
    {
     "name": "stdout",
     "output_type": "stream",
     "text": [
      "11.25\n",
      "18.0\n",
      "20.0\n",
      "10.75\n",
      "9.5\n"
     ]
    }
   ],
   "source": [
    "# areas list\n",
    "areas = [11.25, 18.0, 20.0, 10.75, 9.50]\n",
    "\n",
    "# Code the for loop\n",
    "for area in areas:\n",
    "    print(area)"
   ]
  },
  {
   "cell_type": "markdown",
   "metadata": {},
   "source": [
    "<span style=\"color:orange;font-weight:bold;\">Indexes and values</span>\n",
    "<p>Using a for loop to iterate over a list only gives you access to every list element in each run, one after the other. If you also want to access the index information, so where the list element you're iterating over is located, you can use enumerate().</p>\n",
    "<p>As an example, have a look at how the for loop from the video was converted:</p>\n",
    "<p>fam = [1.73, 1.68, 1.71, 1.89]</p>\n",
    "<p>for index, height in enumerate(fam) :</p>\n",
    "<p>print(\"person \" + str(index) + \": \" + str(height))</p>\n",
    "\n",
    "<li>Adapt the for loop in the sample code to use enumerate() and use two iterator variables.</li>\n",
    "<li>Update the print() statement so that on each run, a line of the form \"room x: y\" should be printed, where x is the index of the list element and y is the actual list element, i.e. the area. Make sure to print out this exact string, with the correct spacing.</li>"
   ]
  },
  {
   "cell_type": "code",
   "execution_count": 6,
   "metadata": {},
   "outputs": [
    {
     "name": "stdout",
     "output_type": "stream",
     "text": [
      "room 0: 11.25\n",
      "room 1: 18.0\n",
      "room 2: 20.0\n",
      "room 3: 10.75\n",
      "room 4: 9.5\n"
     ]
    }
   ],
   "source": [
    "# areas list\n",
    "areas = [11.25, 18.0, 20.0, 10.75, 9.50]\n",
    "\n",
    "# Change for loop to use enumerate() and update print()\n",
    "for index,a in enumerate(areas) :\n",
    "    print(\"room \"+ str(index)+ \": \"+ str(a))"
   ]
  },
  {
   "cell_type": "markdown",
   "metadata": {},
   "source": [
    "<p>For non-programmer folks, room 0: 11.25 is strange. Wouldn't it be better if the count started at 1?</p>\n",
    "<p>Adapt the print() function in the for loop so that the first printout becomes \"room 1: 11.25\", the second one \"room 2: 18.0\" and so on.</p>"
   ]
  },
  {
   "cell_type": "code",
   "execution_count": 7,
   "metadata": {},
   "outputs": [
    {
     "name": "stdout",
     "output_type": "stream",
     "text": [
      "room 1: 11.25\n",
      "room 2: 18.0\n",
      "room 3: 20.0\n",
      "room 4: 10.75\n",
      "room 5: 9.5\n"
     ]
    }
   ],
   "source": [
    "# Code the for loop\n",
    "for index, area in enumerate(areas) :\n",
    "    print(\"room \" + str(index + 1) + \": \" + str(area))"
   ]
  },
  {
   "cell_type": "markdown",
   "metadata": {},
   "source": [
    "<span style=\"color:orange;font-weight:bold;\">Loop over list of lists</span><br>\n",
    "It's up to you to build a for loop from scratch this time!<br>\n",
    "Write a for loop that goes through each sublist of house and prints out the x is y sqm, where x is the name of the room and y is the area of the room."
   ]
  },
  {
   "cell_type": "code",
   "execution_count": 8,
   "metadata": {},
   "outputs": [
    {
     "name": "stdout",
     "output_type": "stream",
     "text": [
      "the hallway is 11.25 sqm\n",
      "the kitchen is 18.0 sqm\n",
      "the living room is 20.0 sqm\n",
      "the bedroom is 10.75 sqm\n",
      "the bathroom is 9.5 sqm\n"
     ]
    }
   ],
   "source": [
    "# house list of lists\n",
    "house = [[\"hallway\", 11.25], \n",
    "         [\"kitchen\", 18.0], \n",
    "         [\"living room\", 20.0], \n",
    "         [\"bedroom\", 10.75], \n",
    "         [\"bathroom\", 9.50]]\n",
    "         \n",
    "# Build a for loop from scratch\n",
    "for room in house:\n",
    "    print(\"the \" + str(room[0]) + \" is \" + str(room[1]) + \" sqm\")"
   ]
  },
  {
   "cell_type": "markdown",
   "metadata": {},
   "source": [
    "<span style=\"color:orange;font-weight:bold;\">Loop over Dictionaries</span><br>\n",
    "<p>n Python 3, you need the items() method to loop over a dictionary:<br>\n",
    "\n",
    "world = { \"afghanistan\":30.55, <br>\n",
    "          \"albania\":2.77,<br>\n",
    "          \"algeria\":39.21 }<br>\n",
    "\n",
    "for key, value in world.items() :<br>\n",
    "    print(key + \" -- \" + str(value))<br>\n",
    "Remember the europe dictionary that contained the names of some European countries as key and their capitals as corresponding value? Go ahead and write a loop to iterate over it!</p>\n",
    "\n",
    "<li>Write a for loop that goes through each key:value pair of europe. On each iteration, \"the capital of x is y\" should be printed out, where x is the key and y is the value of the pair.</li>"
   ]
  },
  {
   "cell_type": "code",
   "execution_count": 9,
   "metadata": {},
   "outputs": [
    {
     "name": "stdout",
     "output_type": "stream",
     "text": [
      "the capital of spain is madrid\n",
      "the capital of france is paris\n",
      "the capital of germany is berlin\n",
      "the capital of norway is oslo\n",
      "the capital of italy is rome\n",
      "the capital of poland is warsaw\n",
      "the capital of austria is vienna\n"
     ]
    }
   ],
   "source": [
    "# Definition of dictionary\n",
    "europe = {'spain':'madrid', 'france':'paris', 'germany':'berlin',\n",
    "          'norway':'oslo', 'italy':'rome', 'poland':'warsaw', 'austria':'vienna' }\n",
    "          \n",
    "# Iterate over europe\n",
    "for key, value in europe.items() :\n",
    "    print(\"the capital of \" + key + \" is \" + str(value))"
   ]
  },
  {
   "cell_type": "markdown",
   "metadata": {},
   "source": [
    "<span style=\"color:orange;font-weight:bold;\">Loop over NumPy array</span><br>\n",
    "<p>If you're dealing with a 1D NumPy array, looping over all elements can be as simple as:<br>\n",
    "\n",
    "for x in my_array :<br>\n",
    "    ...</p>\n",
    "\n",
    "<p>If you're dealing with a 2D NumPy array, it's more complicated. A 2D array is built up of multiple 1D arrays. To explicitly iterate over all separate elements of a multi-dimensional array, you'll need this syntax:</p>\n",
    "<p>for x in np.nditer(my_array) :<br>\n",
    "    ...</p>\n",
    "\n"
   ]
  },
  {
   "cell_type": "code",
   "execution_count": 15,
   "metadata": {},
   "outputs": [
    {
     "name": "stdout",
     "output_type": "stream",
     "text": [
      "loop over 1D array\n",
      "1\n",
      "2\n",
      "3\n",
      "4\n",
      "5\n",
      "\n",
      "loop over 2D array using np.nditer\n",
      "1\n",
      "2\n",
      "3\n",
      "4\n",
      "5\n",
      "6\n",
      "7\n",
      "8\n",
      "9\n",
      "\n",
      "loop over 2D array using flatten\n",
      "1\n",
      "2\n",
      "3\n",
      "4\n",
      "5\n",
      "6\n",
      "7\n",
      "8\n",
      "9\n"
     ]
    }
   ],
   "source": [
    "import numpy as np\n",
    "\n",
    "# 1D array\n",
    "array_1d = np.array([1, 2, 3, 4, 5])\n",
    "print(\"loop over 1D array\")\n",
    "\n",
    "# Using np.nditer\n",
    "for element in np.nditer(array_1d):\n",
    "    print(element)\n",
    "\n",
    "print()\n",
    "# 2D array\n",
    "array_2d = np.array([[1, 2, 3], [4, 5, 6], [7, 8, 9]])\n",
    "print(\"loop over 2D array using np.nditer\")\n",
    "\n",
    "# Using np.nditer\n",
    "for element in np.nditer(array_2d):\n",
    "    print(element)\n",
    "print()\n",
    "print(\"loop over 2D array using flatten\")\n",
    "\n",
    "# Using flatten() \n",
    "# Looping over flattened 2D array\n",
    "for element in array_2d.flatten():\n",
    "    print(element)\n"
   ]
  },
  {
   "cell_type": "markdown",
   "metadata": {},
   "source": [
    "<span style=\"color:orange;font-weight:bold;\">Loop over DataFrames</span><br>\n",
    "<p>Iterating over a Pandas DataFrame is typically done with the iterrows() method. Used in a for loop, every observation is iterated over and on every iteration the row label and actual row contents are available:<br>\n",
    "\n",
    "for lab, row in brics.iterrows() :<br>\n",
    "    ...<br>\n",
    "In this and the following exercises you will be working on the cars DataFrame. It contains information on the cars per capita and whether people drive right or left for seven countries in the world.</p>\n",
    "\n",
    "<li>Write a for loop that iterates over the rows of cars and on each iteration perform two print() calls: one to print out the row label and one to print out all of the rows contents.</li>"
   ]
  },
  {
   "cell_type": "code",
   "execution_count": 22,
   "metadata": {},
   "outputs": [
    {
     "name": "stdout",
     "output_type": "stream",
     "text": [
      "US\n",
      "\n",
      "country         United States\n",
      "drives_right             True\n",
      "cars_per_cap              809\n",
      "Name: US, dtype: object\n",
      "-------------------------------\n",
      "AUS\n",
      "\n",
      "country         Australia\n",
      "drives_right        False\n",
      "cars_per_cap          731\n",
      "Name: AUS, dtype: object\n",
      "-------------------------------\n",
      "JPN\n",
      "\n",
      "country         Japan\n",
      "drives_right    False\n",
      "cars_per_cap      588\n",
      "Name: JPN, dtype: object\n",
      "-------------------------------\n",
      "IN\n",
      "\n",
      "country         India\n",
      "drives_right    False\n",
      "cars_per_cap       18\n",
      "Name: IN, dtype: object\n",
      "-------------------------------\n",
      "RU\n",
      "\n",
      "country         Russia\n",
      "drives_right      True\n",
      "cars_per_cap       200\n",
      "Name: RU, dtype: object\n",
      "-------------------------------\n",
      "MOR\n",
      "\n",
      "country         Morocco\n",
      "drives_right       True\n",
      "cars_per_cap         70\n",
      "Name: MOR, dtype: object\n",
      "-------------------------------\n",
      "EG\n",
      "\n",
      "country         Egypt\n",
      "drives_right     True\n",
      "cars_per_cap       45\n",
      "Name: EG, dtype: object\n",
      "-------------------------------\n"
     ]
    }
   ],
   "source": [
    "# Import cars data\n",
    "import pandas as pd\n",
    "cars = pd.read_csv('C:/Users/RBTG/OneDrive/Desktop/Data science/data/cars.txt', index_col = 0)\n",
    "\n",
    "# Iterate over rows of cars\n",
    "for label,row in cars.iterrows():\n",
    "    print(label)\n",
    "    print()\n",
    "    print(row)\n",
    "    print(\"-------------------------------\")"
   ]
  },
  {
   "cell_type": "markdown",
   "metadata": {},
   "source": [
    "<p>The row data that's generated by iterrows() on every run is a Pandas Series. This format is not very convenient to print out. Luckily, you can easily select variables from the Pandas Series using square brackets:\n",
    "\n",
    "for lab, row in brics.iterrows() :\n",
    "    print(row['country'])</p>"
   ]
  },
  {
   "cell_type": "markdown",
   "metadata": {},
   "source": [
    "<p>Using the iterators lab and row, adapt the code in the for loop such that<br> the first iteration prints out \"US: 809\",<br> the second iteration \"AUS: 731\", and so on.<br>\n",
    "The output should be in the form \"country: cars_per_cap\". Make sure to print out this exact string (with the correct spacing).<br>\n",
    "You can use str() to convert your integer data to a string so that you can print it in conjunction with the country label.</p>"
   ]
  },
  {
   "cell_type": "code",
   "execution_count": 23,
   "metadata": {},
   "outputs": [
    {
     "name": "stdout",
     "output_type": "stream",
     "text": [
      "US: 809\n",
      "AUS: 731\n",
      "JPN: 588\n",
      "IN: 18\n",
      "RU: 200\n",
      "MOR: 70\n",
      "EG: 45\n"
     ]
    }
   ],
   "source": [
    "# Adapt for loop\n",
    "for lab, row in cars.iterrows() :\n",
    "    print(str(lab) +\": \"+str(row[\"cars_per_cap\"]))"
   ]
  },
  {
   "cell_type": "markdown",
   "metadata": {},
   "source": [
    "<span style=\"color:orange;font-weight:bold;\">Adding new Column</span><br>\n",
    "<p>add the length of the country names of the brics DataFrame in a new column:<br>\n",
    "\n",
    "for lab, row in brics.iterrows() :<br>\n",
    "    brics.loc[lab, \"name_length\"] = len(row[\"country\"])<br>\n",
    "You can do similar things on the cars DataFrame.</p>\n",
    "\n",
    "\n",
    "<li>Use a for loop to add a new column, named COUNTRY, that contains a uppercase version of the country names in the \"country\" column. You can use the string method upper() for this.</li>\n",
    "<li>To see if your code worked, print out cars. Don't indent this code, so that it's not part of the for loop.</li>"
   ]
  },
  {
   "cell_type": "code",
   "execution_count": 24,
   "metadata": {},
   "outputs": [
    {
     "name": "stdout",
     "output_type": "stream",
     "text": [
      "           country drives_right  cars_per_cap        COUNTRY\n",
      "US   United States         True           809  UNITED STATES\n",
      "AUS      Australia        False           731      AUSTRALIA\n",
      "JPN          Japan        False           588          JAPAN\n",
      "IN           India        False            18          INDIA\n",
      "RU          Russia         True           200         RUSSIA\n",
      "MOR        Morocco         True            70        MOROCCO\n",
      "EG           Egypt         True            45          EGYPT\n"
     ]
    }
   ],
   "source": [
    "# Code for loop that adds COUNTRY column\n",
    "for lab,row in cars.iterrows():\n",
    "    cars.loc[lab,\"COUNTRY\"]=row[\"country\"].upper()\n",
    "\n",
    "\n",
    "# Print cars\n",
    "print(cars)"
   ]
  },
  {
   "cell_type": "markdown",
   "metadata": {},
   "source": [
    "<p>Using iterrows() to iterate over every observation of a Pandas DataFrame is easy to understand, but not very efficient. On every iteration, you're creating a new Pandas Series.<br>\n",
    "\n",
    "If you want to add a column to a DataFrame by calling a function on another column, the iterrows() method in combination with a for loop is not the preferred way to go. Instead, you'll want to use apply().<br>\n",
    "\n",
    "Compare the iterrows() version with the apply() version to get the same result in the brics DataFrame:<br>\n",
    "\n",
    "for lab, row in brics.iterrows() :<br>\n",
    "    brics.loc[lab, \"name_length\"] = len(row[\"country\"])<br>\n",
    "\n",
    "brics[\"name_length\"] = brics[\"country\"].apply(len)<br>\n",
    "We can do a similar thing to call the upper() method on every name in the country column. However, upper() is a method, so we'll need a slightly different approach:</p>"
   ]
  },
  {
   "cell_type": "markdown",
   "metadata": {},
   "source": [
    "<li>Replace the for loop with a one-liner that uses .apply(str.upper). The call should give the same result: a column COUNTRY should be added to cars, containing an uppercase version of the country names.</li>\n",
    "<li>As usual, print out cars to see the fruits of your hard labor</li>"
   ]
  },
  {
   "cell_type": "code",
   "execution_count": 25,
   "metadata": {},
   "outputs": [
    {
     "name": "stdout",
     "output_type": "stream",
     "text": [
      "           country drives_right  cars_per_cap        COUNTRY\n",
      "US   United States         True           809  UNITED STATES\n",
      "AUS      Australia        False           731      AUSTRALIA\n",
      "JPN          Japan        False           588          JAPAN\n",
      "IN           India        False            18          INDIA\n",
      "RU          Russia         True           200         RUSSIA\n",
      "MOR        Morocco         True            70        MOROCCO\n",
      "EG           Egypt         True            45          EGYPT\n"
     ]
    }
   ],
   "source": [
    "# Use .apply(str.upper)\n",
    "cars[\"COUNTRY\"] = cars[\"country\"].apply(str.upper)\n",
    "print(cars)"
   ]
  }
 ],
 "metadata": {
  "kernelspec": {
   "display_name": "Python 3",
   "language": "python",
   "name": "python3"
  },
  "language_info": {
   "codemirror_mode": {
    "name": "ipython",
    "version": 3
   },
   "file_extension": ".py",
   "mimetype": "text/x-python",
   "name": "python",
   "nbconvert_exporter": "python",
   "pygments_lexer": "ipython3",
   "version": "3.12.4"
  }
 },
 "nbformat": 4,
 "nbformat_minor": 2
}
