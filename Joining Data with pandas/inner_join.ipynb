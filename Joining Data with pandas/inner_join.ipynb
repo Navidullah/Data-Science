{
 "cells": [
  {
   "cell_type": "markdown",
   "metadata": {},
   "source": [
    "<h2 style=\"color:orange;\">Inner Join</h2>"
   ]
  },
  {
   "cell_type": "code",
   "execution_count": 1,
   "metadata": {},
   "outputs": [],
   "source": [
    "import pandas as pd"
   ]
  },
  {
   "cell_type": "code",
   "execution_count": 2,
   "metadata": {},
   "outputs": [],
   "source": [
    "#load the data sets\n",
    "taxi_owners = pd.read_pickle(\"C:/Users/RBTG/OneDrive/Desktop/Data science/data/taxi_owners.p\")\n",
    "taxi_veh = pd.read_pickle(\"C:/Users/RBTG/OneDrive/Desktop/Data science/data/taxi_vehicles.p\")\n",
    "wards = pd.read_pickle(\"C:/Users/RBTG/OneDrive/Desktop/Data science/data/ward.p\")\n",
    "wards_altered = pd.read_csv(\"C:/Users/RBTG/OneDrive/Desktop/Data science/data/wards_altered.txt\")\n",
    "census = pd.read_pickle(\"C:/Users/RBTG/OneDrive/Desktop/Data science/data/census.p\")\n",
    "census_altered = pd.read_csv(\"C:/Users/RBTG/OneDrive/Desktop/Data science/data/census_altered.txt\")"
   ]
  },
  {
   "cell_type": "code",
   "execution_count": 3,
   "metadata": {},
   "outputs": [
    {
     "name": "stdout",
     "output_type": "stream",
     "text": [
      "\n",
      "   ward               alderman                            address    zip\n",
      "0    61     Proco \"Joe\" Moreno           2058NORTH WESTERN AVENUE  60647\n",
      "1     2          Brian Hopkins          1400 NORTH ASHLAND AVENUE  60622\n",
      "2     3             Pat Dowell            5046 SOUTH STATE STREET  60609\n",
      "3     4       William D. Burns     435 EAST 35TH STREET 1ST FLOOR  60616\n",
      "4     5     Leslie A. Hairston              2325 EAST 71ST STREET  60649\n",
      "5     6     Roderick T. Sawyer   8001 S. MARTIN LUTHER KING DRIVE  60619\n",
      "6     7    Gregory I. Mitchell              2249 EAST 95TH STREET  60617\n",
      "7     8     Michelle A. Harris    8539 SOUTH COTTAGE GROVE AVENUE  60619\n",
      "8     9       Anthony A. Beale                34 EAST 112TH PLACE  60628\n",
      "9    10  Susan Sadlowski Garza           10500 SOUTH EWING AVENUE  60617\n",
      "\n",
      "   ward  pop_2000  pop_2010 change                                  address  \\\n",
      "0   NaN     52951     56149     6%              2765 WEST SAINT MARY STREET   \n",
      "1   2.0     54361     55805     3%                 WM WASTE MANAGEMENT 1500   \n",
      "2   3.0     40385     53039    31%                      17 EAST 38TH STREET   \n",
      "3   4.0     51953     54589     5%  31ST ST HARBOR BUILDING LAKEFRONT TRAIL   \n",
      "4   5.0     55302     51455    -7%  JACKSON PARK LAGOON SOUTH CORNELL DRIVE   \n",
      "5   6.0     54989     52341    -5%                     150 WEST 74TH STREET   \n",
      "6   7.0     54593     51581    -6%                8549 SOUTH OGLESBY AVENUE   \n",
      "7   8.0     54039     51687    -4%               1346-1352 EAST 75TH STREET   \n",
      "8   9.0     52008     51519    -1%       11039-11059 SOUTH WENTWORTH AVENUE   \n",
      "9  10.0     56613     51535    -9%                     10534 SOUTH AVENUE F   \n",
      "\n",
      "     zip  \n",
      "0  60647  \n",
      "1  60622  \n",
      "2  60653  \n",
      "3  60653  \n",
      "4  60637  \n",
      "5  60636  \n",
      "6  60617  \n",
      "7  60649  \n",
      "8  60628  \n",
      "9  46394  \n"
     ]
    }
   ],
   "source": [
    "# have a look at the data sets\n",
    "#print(taxi_owners.head(10))\n",
    "print('')\n",
    "#print(taxi_veh.head(10))\n",
    "print(wards_altered.head(10))\n",
    "print(\"\")\n",
    "print(census_altered.head(10))"
   ]
  },
  {
   "cell_type": "markdown",
   "metadata": {},
   "source": [
    "You have been tasked with figuring out what the most popular types of fuel used in Chicago taxis are. To complete the analysis, you need to merge the taxi_owners and taxi_veh tables together on the vid column. You can then use the merged table along with the .value_counts() method to find the most common fuel_type.\n",
    "\n",
    "Since you'll be working with pandas throughout the course, the package will be preloaded for you as pd in each exercise in this course. Also the taxi_owners and taxi_veh DataFrames are loaded for you."
   ]
  },
  {
   "cell_type": "markdown",
   "metadata": {},
   "source": [
    "<li>Merge taxi_owners with taxi_veh on the column vid, and save the result to taxi_own_veh.</li>\n",
    "<li>Set the left and right table suffixes for overlapping columns of the merge to _own and _veh, respectively.</li>\n",
    "<li>Select the fuel_type column from taxi_own_veh and print the value_counts() to find the most popular fuel_types used.</li>"
   ]
  },
  {
   "cell_type": "code",
   "execution_count": 4,
   "metadata": {},
   "outputs": [
    {
     "name": "stdout",
     "output_type": "stream",
     "text": [
      "Index(['rid', 'vid', 'owner_x', 'address', 'zip', 'make', 'model', 'year',\n",
      "       'fuel_type', 'owner_y'],\n",
      "      dtype='object')\n"
     ]
    }
   ],
   "source": [
    "taxi_own_veh = taxi_owners.merge(taxi_veh, on='vid')\n",
    "print(taxi_own_veh.columns)"
   ]
  },
  {
   "cell_type": "code",
   "execution_count": 5,
   "metadata": {},
   "outputs": [
    {
     "name": "stdout",
     "output_type": "stream",
     "text": [
      "Index(['rid', 'vid', 'owner_own', 'address', 'zip', 'make', 'model', 'year',\n",
      "       'fuel_type', 'owner_veh'],\n",
      "      dtype='object')\n"
     ]
    }
   ],
   "source": [
    "# Merge the taxi_owners and taxi_veh tables setting a suffix\n",
    "taxi_own_veh = taxi_owners.merge(taxi_veh, on='vid', suffixes=('_own','_veh'))\n",
    "print(taxi_own_veh.columns)"
   ]
  },
  {
   "cell_type": "code",
   "execution_count": 6,
   "metadata": {},
   "outputs": [
    {
     "name": "stdout",
     "output_type": "stream",
     "text": [
      "fuel_type\n",
      "HYBRID                    2792\n",
      "GASOLINE                   611\n",
      "FLEX FUEL                   89\n",
      "COMPRESSED NATURAL GAS      27\n",
      "Name: count, dtype: int64\n"
     ]
    }
   ],
   "source": [
    "# Print the value_counts to find the most popular fuel_type\n",
    "print(taxi_own_veh['fuel_type'].value_counts())"
   ]
  },
  {
   "cell_type": "markdown",
   "metadata": {},
   "source": [
    "<span style=\"color:orange;\">\"Bravo! You correctly merged the two tables together and found out that the most common fuel type for taxis in Chicago are hybrids\"</span>"
   ]
  },
  {
   "cell_type": "markdown",
   "metadata": {},
   "source": [
    "<h2 style=\"color:orange;\">Inner joins and number of rows returned</h2>"
   ]
  },
  {
   "cell_type": "markdown",
   "metadata": {},
   "source": [
    "All of the merges you have studied to this point are called inner joins. It is necessary to understand that inner joins only return the rows with matching values in both tables. You will explore this further by reviewing the merge between the wards and census tables, then comparing it to merges of copies of these tables that are slightly altered, named wards_altered, and census_altered. The first row of the wards column has been changed in the altered tables. You will examine how this affects the merge between them. The tables have been loaded for you."
   ]
  },
  {
   "cell_type": "code",
   "execution_count": 7,
   "metadata": {},
   "outputs": [
    {
     "name": "stdout",
     "output_type": "stream",
     "text": [
      "   ward                   alderman                            address    zip\n",
      "0     1         Proco \"Joe\" Moreno          2058 NORTH WESTERN AVENUE  60647\n",
      "1     2              Brian Hopkins         1400 NORTH  ASHLAND AVENUE  60622\n",
      "2     3                 Pat Dowell            5046 SOUTH STATE STREET  60609\n",
      "3     4           William D. Burns    435 EAST 35TH STREET, 1ST FLOOR  60616\n",
      "4     5         Leslie A. Hairston              2325 EAST 71ST STREET  60649\n",
      "5     6         Roderick T. Sawyer   8001 S. MARTIN LUTHER KING DRIVE  60619\n",
      "6     7        Gregory I. Mitchell              2249 EAST 95TH STREET  60617\n",
      "7     8         Michelle A. Harris    8539 SOUTH COTTAGE GROVE AVENUE  60619\n",
      "8     9           Anthony A. Beale                34 EAST 112TH PLACE  60628\n",
      "9    10      Susan Sadlowski Garza           10500 SOUTH EWING AVENUE  60617\n",
      "10   11     Patrick Daley Thompson          3659 SOUTH HALSTED STREET  60609\n",
      "11   12            George Cardenas           3476 SOUTH ARCHER AVENUE  60608\n",
      "12   13                Marty Quinn            6500 SOUTH PULASKI ROAD  60629\n",
      "13   14            Edward M. Burke              2650 WEST 51ST STREET  60632\n",
      "14   15           Raymond A. Lopez              1650 WEST 63RD STREET  60636\n",
      "15   16            Toni L. Foulkes              3045 WEST 63RD STREET  60629\n",
      "16   17             David H. Moore          7313 SOUTH ASHLAND AVENUE  60636\n",
      "17   18          Derrick G. Curtis            8359 SOUTH PULASKI ROAD  60652\n",
      "18   19          Matthew J. O'Shea         10400 SOUTH WESTERN AVENUE  60643\n",
      "19   20          Willie B. Cochran    6357 SOUTH COTTAGE GROVE AVENUE  60637\n",
      "20   21    Howard B. Brookins, Jr.  9011 SOUTH ASHLAND AVENUE, UNIT B  60620\n",
      "21   22              Ricardo Munoz        2500 SOUTH ST. LOUIS AVENUE  60623\n",
      "22   23        Michael R. Zalewski           6247 SOUTH ARCHER AVENUE  60638\n",
      "23   24         Michael Scott, Jr.           1158 SOUTH KEELER AVENUE  60624\n",
      "24   25       Daniel \"Danny\" Solis      1800 SOUTH BLUE ISLAND AVENUE  60608\n",
      "25   26          Roberto Maldonado          2511 WEST DIVISION STREET  60622\n",
      "26   27        Walter Burnett, Jr.             4 NORTH WESTERN AVENUE  60612\n",
      "27   28             Jason C. Ervin              2602 WEST 16TH STREET  60612\n",
      "28   29           Chris Taliaferro             6272 WEST NORTH AVENUE  60639\n",
      "29   30          Ariel E. Reyboras        3559 NORTH MILWAUKEE AVENUE  60641\n",
      "30   31  Milagros \"Milly\" Santiago            2521 NORTH PULASKI ROAD  60639\n",
      "31   32           Scott Waguespack         2657 NORTH CLYBOURN AVENUE  60614\n",
      "32   33               Deborah Mell         3001 WEST IRVING PARK ROAD  60618\n",
      "33   34           Carrie M. Austin              507 WEST 111TH STREET  60628\n",
      "34   35        Carlos Ramirez-Rosa           2710 NORTH SAWYER AVENUE  60647\n",
      "35   36           Gilbert Villegas                 6934 WEST DIVERSEY  60607\n",
      "36   37              Emma M. Mitts           4924 WEST CHICAGO AVENUE  60651\n",
      "37   38           Nicholas Sposato          3821  NORTH HARLEM AVENUE  60634\n",
      "38   39           Margaret Laurino          4404 WEST LAWRENCE AVENUE  60630\n",
      "39   40        Patrick J. O'Connor          5850 NORTH LINCOLN AVENUE  60659\n",
      "40   41      Anthony V. Napolitano           7442 NORTH HARLEM AVENUE  60631\n",
      "41   42             Brendan Reilly   325 WEST HURON STREET, SUITE 510  60654\n",
      "42   43             Michelle Smith          2523 NORTH HALSTED STREET  60614\n",
      "43   44                 Tom Tunney        3223 NORTH SHEFFIELD AVENUE  60657\n",
      "44   45              John S. Arena        4754 NORTH MILWAUKEE AVENUE  60630\n",
      "45   46            James Cappleman         4544 NORTH BROADWAY AVENUE  60640\n",
      "46   47                Ameya Pawar          4243 NORTH LINCOLN AVENUE  60618\n",
      "47   48             Harry Osterman         5533 NORTH BROADWAY AVENUE  60640\n",
      "48   49                  Joe Moore        7356 NORTH GREENVIEW AVENUE  60626\n",
      "49   50       Debra L. Silverstein    2949 WEST DEVON AVENUE, SUITE A  60659\n",
      "Index(['ward', 'alderman', 'address', 'zip'], dtype='object')\n"
     ]
    }
   ],
   "source": [
    "print(wards.head(50))\n",
    "print(wards.columns)"
   ]
  },
  {
   "cell_type": "code",
   "execution_count": 8,
   "metadata": {},
   "outputs": [
    {
     "name": "stdout",
     "output_type": "stream",
     "text": [
      "wards_census table shape: (50, 9)\n"
     ]
    }
   ],
   "source": [
    "# Merge the wards and census tables on the ward column\n",
    "wards_census = wards.merge(census,on='ward')\n",
    "\n",
    "# Print the shape of wards_census\n",
    "print('wards_census table shape:', wards_census.shape)\n"
   ]
  },
  {
   "cell_type": "markdown",
   "metadata": {},
   "source": [
    "The apply function with lambda checks each value in census_altered['ward']:\n",
    "\n",
    "If the value is not NaN, it converts it to an integer first (to remove the decimal point) and then to a string.\n",
    "\n",
    "If the value is NaN, it remains unchanged."
   ]
  },
  {
   "cell_type": "code",
   "execution_count": 9,
   "metadata": {},
   "outputs": [],
   "source": [
    "wards_altered['ward'] = wards_altered['ward'].fillna(61).astype(str)\n",
    "census_altered['ward'] = census_altered['ward'].apply(lambda x: str(int(x)) if not pd.isna(x) else x)\n",
    "#census_altered['ward'] =census_altered['ward'].astype(int).astype(str)\n",
    "wards_altered['zip'] =census_altered['zip'].astype(object)\n"
   ]
  },
  {
   "cell_type": "code",
   "execution_count": 10,
   "metadata": {},
   "outputs": [
    {
     "name": "stdout",
     "output_type": "stream",
     "text": [
      "  ward\n",
      "0   61\n",
      "1    2\n",
      "2    3\n",
      "3    4\n",
      "4    5\n",
      "['61' '2' '3' '4' '5' '6' '7' '8' '9' '10' '11' '12' '13' '14' '15' '16'\n",
      " '17' '18' '19' '20' '21' '22' '23' '24' '25' '26' '27' '28' '29' '30'\n",
      " '31' '32' '33' '34' '35' '36' '37' '38' '39' '40' '41' '42' '43' '44'\n",
      " '45' '46' '47' '48' '49' '50']\n",
      "[nan '2' '3' '4' '5' '6' '7' '8' '9' '10' '11' '12' '13' '14' '15' '16'\n",
      " '17' '18' '19' '20' '21' '22' '23' '24' '25' '26' '27' '28' '29' '30'\n",
      " '31' '32' '33' '34' '35' '36' '37' '38' '39' '40' '41' '42' '43' '44'\n",
      " '45' '46' '47' '48' '49' '50']\n",
      "['1' '2' '3' '4' '5' '6' '7' '8' '9' '10' '11' '12' '13' '14' '15' '16'\n",
      " '17' '18' '19' '20' '21' '22' '23' '24' '25' '26' '27' '28' '29' '30'\n",
      " '31' '32' '33' '34' '35' '36' '37' '38' '39' '40' '41' '42' '43' '44'\n",
      " '45' '46' '47' '48' '49' '50']\n",
      "['60647' '60622' '60609' '60616' '60649' '60619' '60617' '60628' '60608'\n",
      " '60629' '60632' '60636' '60652' '60643' '60637' '60620' '60623' '60638'\n",
      " '60624' '60612' '60639' '60641' '60614' '60618' '60607' '60651' '60634'\n",
      " '60630' '60659' '60631' '60654' '60657' '60640' '60626']\n",
      "wards_altered_census table shape: (49, 9)\n"
     ]
    }
   ],
   "source": [
    "# Print the first few rows of the wards_altered table to view the change \n",
    "print(wards_altered[['ward']].head())\n",
    "print(wards_altered['ward'].unique())\n",
    "print(census_altered['ward'].unique())\n",
    "print(wards['ward'].unique())\n",
    "print(wards['zip'].unique())\n",
    "wards_altered['ward'] = wards_altered['ward'].str.strip()\n",
    "census['ward'] = census['ward'].str.strip()\n",
    "\n",
    "# Try merging again after cleaning\n",
    "wards_altered_census = wards_altered.merge(census, on='ward')\n",
    "print('wards_altered_census table shape:', wards_altered_census.shape)\n",
    "\n",
    "# Merge the wards_altered and census tables on the ward column\n",
    "#wards_altered_census = wards_altered.merge(census, on='ward')\n",
    "\n",
    "# Print the shape of wards_altered_census\n",
    "#print('wards_altered_census table shape:', wards_altered_census.shape)"
   ]
  },
  {
   "cell_type": "code",
   "execution_count": 11,
   "metadata": {},
   "outputs": [
    {
     "name": "stdout",
     "output_type": "stream",
     "text": [
      "[nan '2' '3' '4' '5' '6' '7' '8' '9' '10' '11' '12' '13' '14' '15' '16'\n",
      " '17' '18' '19' '20' '21' '22' '23' '24' '25' '26' '27' '28' '29' '30'\n",
      " '31' '32' '33' '34' '35' '36' '37' '38' '39' '40' '41' '42' '43' '44'\n",
      " '45' '46' '47' '48' '49' '50']\n",
      "['1' '2' '3' '4' '5' '6' '7' '8' '9' '10' '11' '12' '13' '14' '15' '16'\n",
      " '17' '18' '19' '20' '21' '22' '23' '24' '25' '26' '27' '28' '29' '30'\n",
      " '31' '32' '33' '34' '35' '36' '37' '38' '39' '40' '41' '42' '43' '44'\n",
      " '45' '46' '47' '48' '49' '50']\n"
     ]
    }
   ],
   "source": [
    "print(census_altered['ward'].unique())\n",
    "print(wards['ward'].unique())"
   ]
  },
  {
   "cell_type": "code",
   "execution_count": 12,
   "metadata": {},
   "outputs": [
    {
     "name": "stdout",
     "output_type": "stream",
     "text": [
      "  ward\n",
      "0  NaN\n",
      "1    2\n",
      "2    3\n",
      "3    4\n",
      "4    5\n",
      "wards_census_altered table shape: (49, 9)\n"
     ]
    }
   ],
   "source": [
    "# Print the first few rows of the census_altered table to view the change \n",
    "print(census_altered[['ward']].head())\n",
    "\n",
    "# Merge the wards and census_altered tables on the ward column\n",
    "wards_census_altered = wards.merge(census_altered,on='ward')\n",
    "\n",
    "# Print the shape of wards_census_altered\n",
    "print('wards_census_altered table shape:', wards_census_altered.shape)"
   ]
  },
  {
   "cell_type": "markdown",
   "metadata": {},
   "source": [
    "<h2 style=\"color:orange;\">One to one relationship</h2>\n",
    "\n",
    "In a one-to-one (1:1) relationship between dataframes, each record in one dataframe maps to exactly one record in another dataframe, and vice versa. This is different from a one-to-many or many-to-many relationship where multiple records in one dataframe can map to multiple records in another dataframe.\n",
    "\n",
    "Here's how you can manage a one-to-one relationship between two dataframes using pandas:"
   ]
  },
  {
   "cell_type": "code",
   "execution_count": 13,
   "metadata": {},
   "outputs": [
    {
     "name": "stdout",
     "output_type": "stream",
     "text": [
      "   id     name  age\n",
      "0   1    Alice   25\n",
      "1   2      Bob   30\n",
      "2   3  Charlie   35\n"
     ]
    }
   ],
   "source": [
    "import pandas as pd\n",
    "\n",
    "# DataFrame 1\n",
    "df1 = pd.DataFrame({\n",
    "    'id': [1, 2, 3],\n",
    "    'name': ['Alice', 'Bob', 'Charlie']\n",
    "})\n",
    "\n",
    "# DataFrame 2\n",
    "df2 = pd.DataFrame({\n",
    "    'id': [1, 2, 3],\n",
    "    'age': [25, 30, 35]\n",
    "})\n",
    "\n",
    "# Merge df1 and df2 on 'id'\n",
    "merged_df = pd.merge(df1, df2, on='id')\n",
    "print(merged_df)\n",
    "\n"
   ]
  },
  {
   "cell_type": "markdown",
   "metadata": {},
   "source": [
    "Ensure Uniqueness: Make sure that the key column(s) used for merging are unique in both dataframes to maintain a true one-to-one relationship.\n",
    "\n",
    "Join Types: Use different join types (inner, outer, left, right) as needed. An inner join is typically used for one-to-one relationships if you only want records that exist in both dataframes."
   ]
  },
  {
   "cell_type": "markdown",
   "metadata": {},
   "source": [
    "<h2 style=\"color:orange;\">One to many relationship</h2>\n",
    "\n",
    "A one-to-many relationship in dataframes means that one record in one dataframe (the parent) can relate to multiple records in another dataframe (the child). In pandas, this relationship can be managed using the\n",
    "\n",
    " merge function, where one dataframe has unique values in the key column, and the other dataframe has duplicate values in the same key column.\n",
    "\n",
    " One-to-many relationship: Alice (customer_id = 1) has two orders (order_id = 101 and 103), while Bob and Charlie have one order each.\n",
    " \n",
    "The merge function duplicates the rows from the parent dataframe (customers) based on the number of matching rows in the child dataframe (orders)."
   ]
  },
  {
   "cell_type": "code",
   "execution_count": 14,
   "metadata": {},
   "outputs": [
    {
     "name": "stdout",
     "output_type": "stream",
     "text": [
      "   customer_id     name  order_id  product\n",
      "0            1    Alice       101   Laptop\n",
      "1            1    Alice       103   Tablet\n",
      "2            2      Bob       102    Phone\n",
      "3            3  Charlie       104  Monitor\n"
     ]
    }
   ],
   "source": [
    "import pandas as pd\n",
    "\n",
    "# Parent DataFrame: Customers\n",
    "customers = pd.DataFrame({\n",
    "    'customer_id': [1, 2, 3],\n",
    "    'name': ['Alice', 'Bob', 'Charlie']\n",
    "})\n",
    "\n",
    "# Child DataFrame: Orders (multiple orders per customer)\n",
    "orders = pd.DataFrame({\n",
    "    'order_id': [101, 102, 103, 104],\n",
    "    'customer_id': [1, 2, 1, 3],\n",
    "    'product': ['Laptop', 'Phone', 'Tablet', 'Monitor']\n",
    "})\n",
    "\n",
    "# Merge customers with orders using 'customer_id'\n",
    "merged_df = pd.merge(customers, orders, on='customer_id')\n",
    "print(merged_df)"
   ]
  },
  {
   "cell_type": "markdown",
   "metadata": {},
   "source": [
    "<h2 style=\"color:orange\">Join Types</h2>\n",
    "\n",
    "<h4>Inner Join</h4> \n",
    "\n",
    "Only includes rows where the key exists in both dataframes.\n",
    "\n",
    "<h4>Left Join</h4> \n",
    "\n",
    "All rows from the left (parent) dataframe are included, even if there is no match in the right (child) dataframe.\n",
    "\n",
    "<h4>Right Join</h4> \n",
    "\n",
    "All rows from the right (child) dataframe are included, even if there is no match in the left (parent) dataframe."
   ]
  },
  {
   "cell_type": "markdown",
   "metadata": {},
   "source": [
    "<h2 style=\"color:orange\">Difference between nunique ( ) and count ( )</h2>\n",
    "\n",
    "Use .count ( ) to count total non-null values.\n",
    "\n",
    "Use .nunique ( ) to count distinct values, ignoring duplicates."
   ]
  },
  {
   "cell_type": "code",
   "execution_count": 16,
   "metadata": {},
   "outputs": [
    {
     "name": "stdout",
     "output_type": "stream",
     "text": [
      "output with count() :  4\n",
      "output with nunique() :  3\n"
     ]
    }
   ],
   "source": [
    "import pandas as pd\n",
    "\n",
    "# Sample data\n",
    "df = pd.DataFrame({\n",
    "    'values': [1, 2, 2, None, 3]\n",
    "})\n",
    "\n",
    "# Count all non-null values\n",
    "print(\"output with count() : \" , df['values'].count())  # Output: 4\n",
    "\n",
    "# Count unique values\n",
    "print(\"output with nunique() : \",df['values'].nunique())  # Output: 3\n",
    "\n"
   ]
  },
  {
   "cell_type": "markdown",
   "metadata": {},
   "source": [
    " <h2 style=\"color:orange\">Merging Multiple Dataframes</h2>\n",
    "\n",
    " When merging multiple DataFrames in pandas, you can use the pd.merge() function iteratively or use pd.concat() if the DataFrames share the same structure. \n",
    " \n",
    " Below are two common approaches for merging multiple DataFrames."
   ]
  },
  {
   "cell_type": "markdown",
   "metadata": {},
   "source": [
    "<ol>\n",
    "<li>Using pd.merge() for Multiple DataFrames</li>\n",
    "</ol>\n",
    "\n",
    "    If you have multiple DataFrames that you need to merge based on a common key, you can chain the merge() method.\n",
    "    Let's assume you have three DataFrames: df1, df2, and df3."
   ]
  },
  {
   "cell_type": "code",
   "execution_count": 21,
   "metadata": {},
   "outputs": [
    {
     "name": "stdout",
     "output_type": "stream",
     "text": [
      "merged_df1 : \n",
      "\n",
      "    id   name  age\n",
      "0   1  Alice   25\n",
      "1   2    Bob   30\n",
      "\n",
      "   id   name  age city\n",
      "0   1  Alice   25  NYC\n"
     ]
    }
   ],
   "source": [
    "import pandas as pd\n",
    "\n",
    "# Sample DataFrames\n",
    "df1 = pd.DataFrame({\n",
    "    'id': [1, 2, 3],\n",
    "    'name': ['Alice', 'Bob', 'Charlie']\n",
    "})\n",
    "\n",
    "df2 = pd.DataFrame({\n",
    "    'id': [1, 2, 4],\n",
    "    'age': [25, 30, 40]\n",
    "})\n",
    "\n",
    "df3 = pd.DataFrame({\n",
    "    'id': [1, 3, 4],\n",
    "    'city': ['NYC', 'LA', 'Chicago']\n",
    "})\n",
    "\n",
    "# Merge df1 with df2 on 'id'\n",
    "merged_df1 = pd.merge(df1, df2, on='id')\n",
    "print(\"merged_df1 : \\n\\n\" ,merged_df1)\n",
    "\n",
    "\n",
    "# Merge the result with df3 on 'id'\n",
    "final_merged_df = pd.merge(merged_df1, df3, on='id')\n",
    "print(\"\")\n",
    "\n",
    "print(final_merged_df)\n"
   ]
  }
 ],
 "metadata": {
  "kernelspec": {
   "display_name": "Python 3",
   "language": "python",
   "name": "python3"
  },
  "language_info": {
   "codemirror_mode": {
    "name": "ipython",
    "version": 3
   },
   "file_extension": ".py",
   "mimetype": "text/x-python",
   "name": "python",
   "nbconvert_exporter": "python",
   "pygments_lexer": "ipython3",
   "version": "3.12.4"
  }
 },
 "nbformat": 4,
 "nbformat_minor": 2
}
