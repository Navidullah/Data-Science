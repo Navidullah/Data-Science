{
 "cells": [
  {
   "cell_type": "markdown",
   "metadata": {},
   "source": [
    "<h2 style=\"color:orange;\">Inner Join</h2>"
   ]
  },
  {
   "cell_type": "code",
   "execution_count": 32,
   "metadata": {},
   "outputs": [],
   "source": [
    "import pandas as pd"
   ]
  },
  {
   "cell_type": "code",
   "execution_count": 66,
   "metadata": {},
   "outputs": [],
   "source": [
    "#load the data sets\n",
    "taxi_owners = pd.read_pickle(\"C:/Users/RBTG/OneDrive/Desktop/Data science/data/taxi_owners.p\")\n",
    "taxi_veh = pd.read_pickle(\"C:/Users/RBTG/OneDrive/Desktop/Data science/data/taxi_vehicles.p\")\n",
    "wards = pd.read_pickle(\"C:/Users/RBTG/OneDrive/Desktop/Data science/data/ward.p\")\n",
    "wards_altered = pd.read_csv(\"C:/Users/RBTG/OneDrive/Desktop/Data science/data/wards_altered.txt\")\n",
    "census = pd.read_pickle(\"C:/Users/RBTG/OneDrive/Desktop/Data science/data/census.p\")\n",
    "ridership = pd.read_pickle(\"C:/Users/RBTG/OneDrive/Desktop/Data science/data/ridership.p\")\n",
    "cal = pd.read_pickle(\"C:/Users/RBTG/OneDrive/Desktop/Data science/data/calendar.p\")\n",
    "licenses = pd.read_pickle(\"C:/Users/RBTG/OneDrive/Desktop/Data science/data/licenses.p\")\n",
    "stations = pd.read_pickle(\"C:/Users/RBTG/OneDrive/Desktop/Data science/data/stations.p\")\n",
    "zip_demo = pd.read_pickle(\"C:/Users/RBTG/OneDrive/Desktop/Data science/data/zip_demo.p\")\n",
    "land_use = pd.read_pickle(\"C:/Users/RBTG/OneDrive/Desktop/Data science/data/land_use.p\")\n",
    "movies = pd.read_pickle(\"C:/Users/RBTG/OneDrive/Desktop/Data science/data/movies.p\")\n",
    "financials = pd.read_pickle(\"C:/Users/RBTG/OneDrive/Desktop/Data science/data/financials.p\")\n",
    "taglines = pd.read_pickle(\"C:/Users/RBTG/OneDrive/Desktop/Data science/data/taglines.p\")\n",
    "movie_to_genres = pd.read_pickle(\"C:/Users/RBTG/OneDrive/Desktop/Data science/data/movie_to_genres.p\")\n",
    "census_altered = pd.read_csv(\"C:/Users/RBTG/OneDrive/Desktop/Data science/data/census_altered.txt\")"
   ]
  },
  {
   "cell_type": "code",
   "execution_count": null,
   "metadata": {},
   "outputs": [],
   "source": [
    "# have a look at the data sets\n",
    "#print(taxi_owners.head(10))\n",
    "print('')\n",
    "#print(taxi_veh.head(10))\n",
    "print(wards_altered.head(10))\n",
    "print(\"\")\n",
    "print(census_altered.head(10))"
   ]
  },
  {
   "cell_type": "markdown",
   "metadata": {},
   "source": [
    "You have been tasked with figuring out what the most popular types of fuel used in Chicago taxis are. To complete the analysis, you need to merge the taxi_owners and taxi_veh tables together on the vid column. You can then use the merged table along with the .value_counts() method to find the most common fuel_type.\n",
    "\n",
    "Since you'll be working with pandas throughout the course, the package will be preloaded for you as pd in each exercise in this course. Also the taxi_owners and taxi_veh DataFrames are loaded for you."
   ]
  },
  {
   "cell_type": "markdown",
   "metadata": {},
   "source": [
    "<li>Merge taxi_owners with taxi_veh on the column vid, and save the result to taxi_own_veh.</li>\n",
    "<li>Set the left and right table suffixes for overlapping columns of the merge to _own and _veh, respectively.</li>\n",
    "<li>Select the fuel_type column from taxi_own_veh and print the value_counts() to find the most popular fuel_types used.</li>"
   ]
  },
  {
   "cell_type": "code",
   "execution_count": null,
   "metadata": {},
   "outputs": [],
   "source": [
    "taxi_own_veh = taxi_owners.merge(taxi_veh, on='vid')\n",
    "print(taxi_own_veh.columns)"
   ]
  },
  {
   "cell_type": "code",
   "execution_count": null,
   "metadata": {},
   "outputs": [],
   "source": [
    "# Merge the taxi_owners and taxi_veh tables setting a suffix\n",
    "taxi_own_veh = taxi_owners.merge(taxi_veh, on='vid', suffixes=('_own','_veh'))\n",
    "print(taxi_own_veh.columns)"
   ]
  },
  {
   "cell_type": "code",
   "execution_count": null,
   "metadata": {},
   "outputs": [],
   "source": [
    "# Print the value_counts to find the most popular fuel_type\n",
    "print(taxi_own_veh['fuel_type'].value_counts())"
   ]
  },
  {
   "cell_type": "markdown",
   "metadata": {},
   "source": [
    "<span style=\"color:orange;\">\"Bravo! You correctly merged the two tables together and found out that the most common fuel type for taxis in Chicago are hybrids\"</span>"
   ]
  },
  {
   "cell_type": "markdown",
   "metadata": {},
   "source": [
    "<h2 style=\"color:orange;\">Inner joins and number of rows returned</h2>"
   ]
  },
  {
   "cell_type": "markdown",
   "metadata": {},
   "source": [
    "All of the merges you have studied to this point are called inner joins. It is necessary to understand that inner joins only return the rows with matching values in both tables. You will explore this further by reviewing the merge between the wards and census tables, then comparing it to merges of copies of these tables that are slightly altered, named wards_altered, and census_altered. The first row of the wards column has been changed in the altered tables. You will examine how this affects the merge between them. The tables have been loaded for you."
   ]
  },
  {
   "cell_type": "code",
   "execution_count": null,
   "metadata": {},
   "outputs": [],
   "source": [
    "print(wards.head(50))\n",
    "print(wards.columns)"
   ]
  },
  {
   "cell_type": "code",
   "execution_count": null,
   "metadata": {},
   "outputs": [],
   "source": [
    "# Merge the wards and census tables on the ward column\n",
    "wards_census = wards.merge(census,on='ward')\n",
    "\n",
    "# Print the shape of wards_census\n",
    "print('wards_census table shape:', wards_census.shape)\n"
   ]
  },
  {
   "cell_type": "markdown",
   "metadata": {},
   "source": [
    "The apply function with lambda checks each value in census_altered['ward']:\n",
    "\n",
    "If the value is not NaN, it converts it to an integer first (to remove the decimal point) and then to a string.\n",
    "\n",
    "If the value is NaN, it remains unchanged."
   ]
  },
  {
   "cell_type": "code",
   "execution_count": null,
   "metadata": {},
   "outputs": [],
   "source": [
    "wards_altered['ward'] = wards_altered['ward'].fillna(61).astype(str)\n",
    "census_altered['ward'] = census_altered['ward'].apply(lambda x: str(int(x)) if not pd.isna(x) else x)\n",
    "#census_altered['ward'] =census_altered['ward'].astype(int).astype(str)\n",
    "wards_altered['zip'] =census_altered['zip'].astype(object)\n"
   ]
  },
  {
   "cell_type": "code",
   "execution_count": null,
   "metadata": {},
   "outputs": [],
   "source": [
    "# Print the first few rows of the wards_altered table to view the change \n",
    "print(wards_altered[['ward']].head())\n",
    "print(wards_altered['ward'].unique())\n",
    "print(census_altered['ward'].unique())\n",
    "print(wards['ward'].unique())\n",
    "print(wards['zip'].unique())\n",
    "wards_altered['ward'] = wards_altered['ward'].str.strip()\n",
    "census['ward'] = census['ward'].str.strip()\n",
    "\n",
    "# Try merging again after cleaning\n",
    "wards_altered_census = wards_altered.merge(census, on='ward')\n",
    "print('wards_altered_census table shape:', wards_altered_census.shape)\n",
    "\n",
    "# Merge the wards_altered and census tables on the ward column\n",
    "#wards_altered_census = wards_altered.merge(census, on='ward')\n",
    "\n",
    "# Print the shape of wards_altered_census\n",
    "#print('wards_altered_census table shape:', wards_altered_census.shape)"
   ]
  },
  {
   "cell_type": "code",
   "execution_count": null,
   "metadata": {},
   "outputs": [],
   "source": [
    "print(census_altered['ward'].unique())\n",
    "print(wards['ward'].unique())"
   ]
  },
  {
   "cell_type": "code",
   "execution_count": null,
   "metadata": {},
   "outputs": [],
   "source": [
    "# Print the first few rows of the census_altered table to view the change \n",
    "print(census_altered[['ward']].head())\n",
    "\n",
    "# Merge the wards and census_altered tables on the ward column\n",
    "wards_census_altered = wards.merge(census_altered,on='ward')\n",
    "\n",
    "# Print the shape of wards_census_altered\n",
    "print('wards_census_altered table shape:', wards_census_altered.shape)"
   ]
  },
  {
   "cell_type": "markdown",
   "metadata": {},
   "source": [
    "<h2 style=\"color:orange;\">One to one relationship</h2>\n",
    "\n",
    "In a one-to-one (1:1) relationship between dataframes, each record in one dataframe maps to exactly one record in another dataframe, and vice versa. This is different from a one-to-many or many-to-many relationship where multiple records in one dataframe can map to multiple records in another dataframe.\n",
    "\n",
    "Here's how you can manage a one-to-one relationship between two dataframes using pandas:"
   ]
  },
  {
   "cell_type": "code",
   "execution_count": null,
   "metadata": {},
   "outputs": [],
   "source": [
    "import pandas as pd\n",
    "\n",
    "# DataFrame 1\n",
    "df1 = pd.DataFrame({\n",
    "    'id': [1, 2, 3],\n",
    "    'name': ['Alice', 'Bob', 'Charlie']\n",
    "})\n",
    "\n",
    "# DataFrame 2\n",
    "df2 = pd.DataFrame({\n",
    "    'id': [1, 2, 3],\n",
    "    'age': [25, 30, 35]\n",
    "})\n",
    "\n",
    "# Merge df1 and df2 on 'id'\n",
    "merged_df = pd.merge(df1, df2, on='id')\n",
    "print(merged_df)\n",
    "\n"
   ]
  },
  {
   "cell_type": "markdown",
   "metadata": {},
   "source": [
    "Ensure Uniqueness: Make sure that the key column(s) used for merging are unique in both dataframes to maintain a true one-to-one relationship.\n",
    "\n",
    "Join Types: Use different join types (inner, outer, left, right) as needed. An inner join is typically used for one-to-one relationships if you only want records that exist in both dataframes."
   ]
  },
  {
   "cell_type": "markdown",
   "metadata": {},
   "source": [
    "<h2 style=\"color:orange;\">One to many relationship</h2>\n",
    "\n",
    "A one-to-many relationship in dataframes means that one record in one dataframe (the parent) can relate to multiple records in another dataframe (the child). In pandas, this relationship can be managed using the\n",
    "\n",
    " merge function, where one dataframe has unique values in the key column, and the other dataframe has duplicate values in the same key column.\n",
    "\n",
    " One-to-many relationship: Alice (customer_id = 1) has two orders (order_id = 101 and 103), while Bob and Charlie have one order each.\n",
    " \n",
    "The merge function duplicates the rows from the parent dataframe (customers) based on the number of matching rows in the child dataframe (orders)."
   ]
  },
  {
   "cell_type": "code",
   "execution_count": null,
   "metadata": {},
   "outputs": [],
   "source": [
    "import pandas as pd\n",
    "\n",
    "# Parent DataFrame: Customers\n",
    "customers = pd.DataFrame({\n",
    "    'customer_id': [1, 2, 3],\n",
    "    'name': ['Alice', 'Bob', 'Charlie']\n",
    "})\n",
    "\n",
    "# Child DataFrame: Orders (multiple orders per customer)\n",
    "orders = pd.DataFrame({\n",
    "    'order_id': [101, 102, 103, 104],\n",
    "    'customer_id': [1, 2, 1, 3],\n",
    "    'product': ['Laptop', 'Phone', 'Tablet', 'Monitor']\n",
    "})\n",
    "\n",
    "# Merge customers with orders using 'customer_id'\n",
    "merged_df = pd.merge(customers, orders, on='customer_id')\n",
    "print(merged_df)"
   ]
  },
  {
   "cell_type": "markdown",
   "metadata": {},
   "source": [
    "<h2 style=\"color:orange\">Join Types</h2>\n",
    "\n",
    "<h4>Inner Join</h4> \n",
    "\n",
    "Only includes rows where the key exists in both dataframes.\n",
    "\n",
    "<h4>Left Join</h4> \n",
    "\n",
    "All rows from the left (parent) dataframe are included, even if there is no match in the right (child) dataframe.\n",
    "\n",
    "<h4>Right Join</h4> \n",
    "\n",
    "All rows from the right (child) dataframe are included, even if there is no match in the left (parent) dataframe."
   ]
  },
  {
   "cell_type": "markdown",
   "metadata": {},
   "source": [
    "<h2 style=\"color:orange\">Difference between nunique ( ) and count ( )</h2>\n",
    "\n",
    "Use .count ( ) to count total non-null values.\n",
    "\n",
    "Use .nunique ( ) to count distinct values, ignoring duplicates."
   ]
  },
  {
   "cell_type": "code",
   "execution_count": null,
   "metadata": {},
   "outputs": [],
   "source": [
    "import pandas as pd\n",
    "\n",
    "# Sample data\n",
    "df = pd.DataFrame({\n",
    "    'values': [1, 2, 2, None, 3]\n",
    "})\n",
    "\n",
    "# Count all non-null values\n",
    "print(\"output with count() : \" , df['values'].count())  # Output: 4\n",
    "\n",
    "# Count unique values\n",
    "print(\"output with nunique() : \",df['values'].nunique())  # Output: 3\n",
    "\n"
   ]
  },
  {
   "cell_type": "markdown",
   "metadata": {},
   "source": [
    " <h2 style=\"color:orange\">Merging Multiple Dataframes</h2>\n",
    "\n",
    " When merging multiple DataFrames in pandas, you can use the pd.merge() function iteratively or use pd.concat() if the DataFrames share the same structure. \n",
    " \n",
    " Below are two common approaches for merging multiple DataFrames."
   ]
  },
  {
   "cell_type": "markdown",
   "metadata": {},
   "source": [
    "<ol>\n",
    "<li>Using pd.merge() for Multiple DataFrames</li>\n",
    "</ol>\n",
    "\n",
    "    If you have multiple DataFrames that you need to merge based on a common key, you can chain the merge() method.\n",
    "    Let's assume you have three DataFrames: df1, df2, and df3."
   ]
  },
  {
   "cell_type": "code",
   "execution_count": null,
   "metadata": {},
   "outputs": [],
   "source": [
    "import pandas as pd\n",
    "\n",
    "# Sample DataFrames\n",
    "df1 = pd.DataFrame({\n",
    "    'id': [1, 2, 3],\n",
    "    'name': ['Alice', 'Bob', 'Charlie']\n",
    "})\n",
    "\n",
    "df2 = pd.DataFrame({\n",
    "    'id': [1, 2, 4],\n",
    "    'age': [25, 30, 40]\n",
    "})\n",
    "\n",
    "df3 = pd.DataFrame({\n",
    "    'id': [1, 3, 4],\n",
    "    'city': ['NYC', 'LA', 'Chicago']\n",
    "})\n",
    "\n",
    "# Merge df1 with df2 on 'id'\n",
    "merged_df1 = pd.merge(df1, df2, on='id')\n",
    "print(\"merged_df1 : \\n\\n\" ,merged_df1)\n",
    "\n",
    "\n",
    "# Merge the result with df3 on 'id'\n",
    "final_merged_df = pd.merge(merged_df1, df3, on='id')\n",
    "print(\"\")\n",
    "\n",
    "print(final_merged_df)\n"
   ]
  },
  {
   "cell_type": "code",
   "execution_count": null,
   "metadata": {},
   "outputs": [],
   "source": [
    "print(ridership)\n",
    "print(cal)\n"
   ]
  },
  {
   "cell_type": "code",
   "execution_count": null,
   "metadata": {},
   "outputs": [],
   "source": [
    "print(stations)"
   ]
  },
  {
   "cell_type": "markdown",
   "metadata": {},
   "source": [
    "<h3 style=\"color:orange;\">Total riders in a month</h3>\n",
    "\n",
    "Your goal is to find the total number of rides provided to passengers passing through the Wilson station (station_name == 'Wilson') when riding Chicago's public transportation system \n",
    "\n",
    "on weekdays (day_type == 'Weekday') in July (month == 7). Luckily, Chicago provides this detailed data, but it is in three different tables. You will work on merging these tables \n",
    "\n",
    "together to answer the question. This data is different from the business related data you have seen so far, but all the information you need to answer the question is provided.\n"
   ]
  },
  {
   "cell_type": "markdown",
   "metadata": {},
   "source": [
    "Merge the ridership and cal tables together, starting with the ridership table on the left and save the result to the variable ridership_cal. \n"
   ]
  },
  {
   "cell_type": "code",
   "execution_count": null,
   "metadata": {},
   "outputs": [],
   "source": [
    "# Merge the ridership and cal tables\n",
    "ridership_cal = ridership.merge(cal,on=['year','month','day'])\n",
    "print(ridership_cal)"
   ]
  },
  {
   "cell_type": "markdown",
   "metadata": {},
   "source": [
    "Extend the previous merge to three tables by also merging the stations table."
   ]
  },
  {
   "cell_type": "code",
   "execution_count": null,
   "metadata": {},
   "outputs": [],
   "source": [
    "# Merge the ridership, cal, and stations tables\n",
    "ridership_cal_stations = ridership.merge(cal, on=['year','month','day']) \\\n",
    "            \t\t\t\t.merge(stations,on='station_id')\n",
    "print(ridership_cal_stations)                "
   ]
  },
  {
   "cell_type": "code",
   "execution_count": null,
   "metadata": {},
   "outputs": [],
   "source": [
    "# Create a filter to filter ridership_cal_stations\n",
    "filter_criteria = ((ridership_cal_stations['month'] == 7) \n",
    "                   & (ridership_cal_stations['day_type'] =='Weekday') \n",
    "                   & (ridership_cal_stations['station_name'] == 'Wilson'))\n",
    "\n",
    "# Use .loc and the filter to select for rides\n",
    "print(ridership_cal_stations.loc[filter_criteria, 'rides'].sum())"
   ]
  },
  {
   "cell_type": "code",
   "execution_count": null,
   "metadata": {},
   "outputs": [],
   "source": [
    "filtered_data = ridership_cal_stations[\n",
    "    (ridership_cal_stations['month'] == 7) &  # Replace 'desired_month' with your value\n",
    "    (ridership_cal_stations['day_type'] == 'Weekday') &  # Replace with the desired day type\n",
    "    (ridership_cal_stations['station_name'] == 'Wilson')  # Replace with the station name\n",
    "]\n",
    "print(filtered_data.groupby(['month','day_type','station_name']).agg(totalRides=('rides','sum')))"
   ]
  },
  {
   "cell_type": "markdown",
   "metadata": {},
   "source": [
    "Awesome work! You merged three DataFrames together, including merging two tables on multiple columns. Once the tables were merged, you filtered and selected just like any other \n",
    "\n",
    "DataFrame. Finally, you found out that the Wilson station had 140,005 riders during weekdays in July."
   ]
  },
  {
   "cell_type": "markdown",
   "metadata": {},
   "source": [
    "<h3 style=\"color:orange;\">Three table merge</h3>\n",
    "\n",
    "To solidify the concept of a three DataFrame merge, practice another exercise. A reasonable extension of our review of Chicago business data would include looking at demographics \n",
    "\n",
    "information about the neighborhoods where the businesses are. A table with the median income by zip code has been provided to you. You will merge the licenses and wards tables with \n",
    "\n",
    "this new income-by-zip-code table called zip_demo.\n",
    "\n",
    "The licenses, wards, and zip_demo DataFrames have been loaded for you."
   ]
  },
  {
   "cell_type": "code",
   "execution_count": 35,
   "metadata": {},
   "outputs": [],
   "source": [
    "# Merge licenses and zip_demo, on zip; and merge the wards on ward\n",
    "licenses_zip_ward = licenses.merge(zip_demo,on='zip') \\\n",
    "            \t\t\t.merge(wards,on='ward')\n",
    "\n",
    "# Print the results by alderman and show median income\n",
    "print(licenses_zip_ward.groupby('alderman').agg({'income':'median'}))"
   ]
  },
  {
   "cell_type": "markdown",
   "metadata": {},
   "source": [
    "<h3 style=\"color:orange;\">One-to-many merge with multiple tables</h3>\n",
    "\n",
    "In this exercise, assume that you are looking to start a business in the city of Chicago. Your perfect idea is to start a company that uses goats to mow the lawn for other businesses.\n",
    "\n",
    " However, you have to choose a location in the city to put your goat farm. You need a location with a great deal of space and relatively few businesses and people around to avoid \n",
    " \n",
    " complaints about the smell. You will need to merge three tables to help you choose your location. The land_use table has info on the percentage of vacant land by city ward. The census \n",
    " \n",
    " table has population by ward, and the licenses table lists businesses by ward.\n",
    "\n",
    "The land_use, census, and licenses tables have been loaded for you.\n",
    "\n",
    "Merge land_use and census on the ward column. Merge the result of this with licenses on the ward column, using the suffix _cen for the left table and _lic for the right table.\n",
    "\n",
    " Save this to the variable land_cen_lic."
   ]
  },
  {
   "cell_type": "code",
   "execution_count": 37,
   "metadata": {},
   "outputs": [
    {
     "name": "stdout",
     "output_type": "stream",
     "text": [
      "   ward  pop_2010  vacant  account\n",
      "47    7     51581      19       80\n",
      "12   20     52372      15      123\n",
      "1    10     51535      14      130\n",
      "16   24     54909      13       98\n",
      "7    16     51954      13      156\n"
     ]
    }
   ],
   "source": [
    "# Merge land_use and census and merge result with licenses including suffixes\n",
    "land_cen_lic = land_use.merge(census, on='ward') \\\n",
    "                    .merge(licenses, on='ward', suffixes=('_cen','_lic'))\n",
    "\n",
    "# Group by ward, pop_2010, and vacant, then count the # of accounts\n",
    "pop_vac_lic = land_cen_lic.groupby(['ward','pop_2010','vacant'], \n",
    "                                   as_index=False).agg({'account':'count'})\n",
    "\n",
    "# Sort pop_vac_lic and print the results\n",
    "sorted_pop_vac_lic = pop_vac_lic.sort_values(['vacant','account','pop_2010'], \n",
    "                                             ascending=[False,True,True])\n",
    "\n",
    "# Print the top few rows of sorted_pop_vac_lic\n",
    "print(sorted_pop_vac_lic.head())"
   ]
  },
  {
   "cell_type": "markdown",
   "metadata": {},
   "source": [
    "Great job putting your new skills into action. You merged multiple tables with varying relationships and added suffixes to make your column names clearer.\n",
    "\n",
    " Using your skills, you were able to pull together information from different tables to see that the 7th ward would be a good place to build your goat farm!"
   ]
  },
  {
   "cell_type": "markdown",
   "metadata": {},
   "source": [
    "<h2 style='color:orange;'>Left Join</h2>\n",
    "\n",
    "In pandas, you can perform a left join using the merge() function. A left join returns all the rows from the left DataFrame and only the matching rows from the right DataFrame.\n",
    "\n",
    "Here’s an example of how to perform a left join in pandas:\n",
    "\n",
    "<li>df1 is the left DataFrame.</li>\n",
    "<li>df2 is the right DataFrame.</li>\n",
    "<li>The how='left' argument ensures that all rows from df1 are returned, with matching rows from df2. If there is no match, the result contains NaN values for columns from df2.</li>\n"
   ]
  },
  {
   "cell_type": "code",
   "execution_count": 39,
   "metadata": {},
   "outputs": [
    {
     "name": "stdout",
     "output_type": "stream",
     "text": [
      "  key  value1  value2\n",
      "0   A       1     5.0\n",
      "1   B       2     6.0\n",
      "2   C       3     NaN\n",
      "3   D       4     NaN\n"
     ]
    }
   ],
   "source": [
    "# Sample DataFrames\n",
    "df1 = pd.DataFrame({\n",
    "    'key': ['A', 'B', 'C', 'D'],\n",
    "    'value1': [1, 2, 3, 4]\n",
    "})\n",
    "\n",
    "df2 = pd.DataFrame({\n",
    "    'key': ['A', 'B', 'E', 'F'],\n",
    "    'value2': [5, 6, 7, 8]\n",
    "})\n",
    "\n",
    "# Perform left join\n",
    "result = pd.merge(df1, df2, how='left', on='key')\n",
    "\n",
    "print(result)\n"
   ]
  },
  {
   "cell_type": "markdown",
   "metadata": {},
   "source": [
    "<h3 style='color:orange;'>Counting missing rows with left join</h3>\n",
    "The Movie Database is supported by volunteers going out into the world, collecting data, and entering it into the database. This includes financial data, such as movie budget and \n",
    "\n",
    "revenue. If you wanted to know which movies are still missing data, you could use a left join to identify them. Practice using a left join by merging the movies table and the \n",
    "\n",
    "financials table.\n",
    "\n",
    "The movies and financials tables have been loaded for you."
   ]
  },
  {
   "cell_type": "code",
   "execution_count": 41,
   "metadata": {},
   "outputs": [
    {
     "name": "stdout",
     "output_type": "stream",
     "text": [
      "Missing values are : 1574\n"
     ]
    }
   ],
   "source": [
    "# Merge the movies table with the financials table with a left join\n",
    "movies_financials = movies.merge(financials, on='id', how='left')\n",
    "\n",
    "# Count the number of rows in the budget column that are missing\n",
    "number_of_missing_fin = movies_financials['budget'].isna().sum()\n",
    "\n",
    "# Print the number of movies missing financials\n",
    "print('Missing values are :' ,number_of_missing_fin)"
   ]
  },
  {
   "cell_type": "markdown",
   "metadata": {},
   "source": [
    "Great job! You used a left join to find out which rows in the financials table were missing data. When performing a left join, the .merge() method returns a row full of null values for\n",
    "\n",
    " columns in the right table if the key column does not have a matching value in both tables. We see that there are at least 1,500 rows missing data. Wow! That sounds like a lot of work."
   ]
  },
  {
   "cell_type": "code",
   "execution_count": 60,
   "metadata": {},
   "outputs": [
    {
     "data": {
      "text/html": [
       "<div>\n",
       "<style scoped>\n",
       "    .dataframe tbody tr th:only-of-type {\n",
       "        vertical-align: middle;\n",
       "    }\n",
       "\n",
       "    .dataframe tbody tr th {\n",
       "        vertical-align: top;\n",
       "    }\n",
       "\n",
       "    .dataframe thead th {\n",
       "        text-align: right;\n",
       "    }\n",
       "</style>\n",
       "<table border=\"1\" class=\"dataframe\">\n",
       "  <thead>\n",
       "    <tr style=\"text-align: right;\">\n",
       "      <th></th>\n",
       "      <th>id</th>\n",
       "      <th>title</th>\n",
       "      <th>popularity</th>\n",
       "      <th>release_date</th>\n",
       "    </tr>\n",
       "  </thead>\n",
       "  <tbody>\n",
       "    <tr>\n",
       "      <th>103</th>\n",
       "      <td>10193</td>\n",
       "      <td>Toy Story 3</td>\n",
       "      <td>59.995418</td>\n",
       "      <td>2010-06-16</td>\n",
       "    </tr>\n",
       "    <tr>\n",
       "      <th>2637</th>\n",
       "      <td>863</td>\n",
       "      <td>Toy Story 2</td>\n",
       "      <td>73.575118</td>\n",
       "      <td>1999-10-30</td>\n",
       "    </tr>\n",
       "    <tr>\n",
       "      <th>3716</th>\n",
       "      <td>862</td>\n",
       "      <td>Toy Story</td>\n",
       "      <td>73.640445</td>\n",
       "      <td>1995-10-30</td>\n",
       "    </tr>\n",
       "  </tbody>\n",
       "</table>\n",
       "</div>"
      ],
      "text/plain": [
       "         id        title  popularity release_date\n",
       "103   10193  Toy Story 3   59.995418   2010-06-16\n",
       "2637    863  Toy Story 2   73.575118   1999-10-30\n",
       "3716    862    Toy Story   73.640445   1995-10-30"
      ]
     },
     "execution_count": 60,
     "metadata": {},
     "output_type": "execute_result"
    }
   ],
   "source": [
    "toy_story = movies[movies['title'].isin(['Toy Story', 'Toy Story 2', 'Toy Story 3'])]\n",
    "\n",
    "toy_story"
   ]
  },
  {
   "cell_type": "code",
   "execution_count": 64,
   "metadata": {},
   "outputs": [
    {
     "data": {
      "text/html": [
       "<div>\n",
       "<style scoped>\n",
       "    .dataframe tbody tr th:only-of-type {\n",
       "        vertical-align: middle;\n",
       "    }\n",
       "\n",
       "    .dataframe tbody tr th {\n",
       "        vertical-align: top;\n",
       "    }\n",
       "\n",
       "    .dataframe thead th {\n",
       "        text-align: right;\n",
       "    }\n",
       "</style>\n",
       "<table border=\"1\" class=\"dataframe\">\n",
       "  <thead>\n",
       "    <tr style=\"text-align: right;\">\n",
       "      <th></th>\n",
       "      <th>id</th>\n",
       "      <th>tagline</th>\n",
       "    </tr>\n",
       "  </thead>\n",
       "  <tbody>\n",
       "    <tr>\n",
       "      <th>0</th>\n",
       "      <td>19995</td>\n",
       "      <td>Enter the World of Pandora.</td>\n",
       "    </tr>\n",
       "    <tr>\n",
       "      <th>1</th>\n",
       "      <td>285</td>\n",
       "      <td>At the end of the world, the adventure begins.</td>\n",
       "    </tr>\n",
       "    <tr>\n",
       "      <th>2</th>\n",
       "      <td>206647</td>\n",
       "      <td>A Plan No One Escapes</td>\n",
       "    </tr>\n",
       "    <tr>\n",
       "      <th>3</th>\n",
       "      <td>49026</td>\n",
       "      <td>The Legend Ends</td>\n",
       "    </tr>\n",
       "    <tr>\n",
       "      <th>4</th>\n",
       "      <td>49529</td>\n",
       "      <td>Lost in our world, found in another.</td>\n",
       "    </tr>\n",
       "  </tbody>\n",
       "</table>\n",
       "</div>"
      ],
      "text/plain": [
       "       id                                         tagline\n",
       "0   19995                     Enter the World of Pandora.\n",
       "1     285  At the end of the world, the adventure begins.\n",
       "2  206647                           A Plan No One Escapes\n",
       "3   49026                                 The Legend Ends\n",
       "4   49529            Lost in our world, found in another."
      ]
     },
     "execution_count": 64,
     "metadata": {},
     "output_type": "execute_result"
    }
   ],
   "source": [
    "taglines.head()"
   ]
  },
  {
   "cell_type": "code",
   "execution_count": 63,
   "metadata": {},
   "outputs": [
    {
     "name": "stdout",
     "output_type": "stream",
     "text": [
      "      id        title  popularity release_date                   tagline\n",
      "0  10193  Toy Story 3   59.995418   2010-06-16  No toy gets left behind.\n",
      "1    863  Toy Story 2   73.575118   1999-10-30        The toys are back!\n",
      "2    862    Toy Story   73.640445   1995-10-30                       NaN\n",
      "(3, 5)\n"
     ]
    }
   ],
   "source": [
    "# Merge the toy_story and taglines tables with a left join\n",
    "toystory_tag = toy_story.merge(taglines,on='id',how='left')\n",
    "\n",
    "# Print the rows and shape of toystory_tag\n",
    "print(toystory_tag)\n",
    "print(toystory_tag.shape)\n"
   ]
  },
  {
   "cell_type": "code",
   "execution_count": 65,
   "metadata": {},
   "outputs": [
    {
     "name": "stdout",
     "output_type": "stream",
     "text": [
      "      id        title  popularity release_date                   tagline\n",
      "0  10193  Toy Story 3   59.995418   2010-06-16  No toy gets left behind.\n",
      "1    863  Toy Story 2   73.575118   1999-10-30        The toys are back!\n",
      "(2, 5)\n"
     ]
    }
   ],
   "source": [
    "# Merge the toy_story and taglines tables with a inner join\n",
    "toystory_tag = toy_story.merge(taglines,on='id')\n",
    "\n",
    "# Print the rows and shape of toystory_tag\n",
    "print(toystory_tag)\n",
    "print(toystory_tag.shape)"
   ]
  },
  {
   "cell_type": "markdown",
   "metadata": {},
   "source": [
    "That's fantastic work! If your goal is to enhance or enrich a dataset, then you do not want to lose any of your original data. \n",
    "\n",
    "A left join will do that by returning all of the rows of your left table, while using an inner join may result in lost data if it does not exist in both tables."
   ]
  }
 ],
 "metadata": {
  "kernelspec": {
   "display_name": "Python 3",
   "language": "python",
   "name": "python3"
  },
  "language_info": {
   "codemirror_mode": {
    "name": "ipython",
    "version": 3
   },
   "file_extension": ".py",
   "mimetype": "text/x-python",
   "name": "python",
   "nbconvert_exporter": "python",
   "pygments_lexer": "ipython3",
   "version": "3.12.4"
  }
 },
 "nbformat": 4,
 "nbformat_minor": 2
}
