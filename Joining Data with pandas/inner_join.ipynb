{
 "cells": [
  {
   "cell_type": "markdown",
   "metadata": {},
   "source": [
    "<h2 style=\"color:orange;\">Inner Join</h2>"
   ]
  },
  {
   "cell_type": "code",
   "execution_count": 58,
   "metadata": {},
   "outputs": [],
   "source": [
    "import pandas as pd\n",
    "import matplotlib.pyplot as plt"
   ]
  },
  {
   "cell_type": "code",
   "execution_count": 2,
   "metadata": {},
   "outputs": [],
   "source": [
    "#load the data sets\n",
    "taxi_owners = pd.read_pickle(\"C:/Users/RBTG/OneDrive/Desktop/Data science/data/taxi_owners.p\")\n",
    "taxi_veh = pd.read_pickle(\"C:/Users/RBTG/OneDrive/Desktop/Data science/data/taxi_vehicles.p\")\n",
    "wards = pd.read_pickle(\"C:/Users/RBTG/OneDrive/Desktop/Data science/data/ward.p\")\n",
    "wards_altered = pd.read_csv(\"C:/Users/RBTG/OneDrive/Desktop/Data science/data/wards_altered.txt\")\n",
    "census = pd.read_pickle(\"C:/Users/RBTG/OneDrive/Desktop/Data science/data/census.p\")\n",
    "ridership = pd.read_pickle(\"C:/Users/RBTG/OneDrive/Desktop/Data science/data/ridership.p\")\n",
    "cal = pd.read_pickle(\"C:/Users/RBTG/OneDrive/Desktop/Data science/data/calendar.p\")\n",
    "licenses = pd.read_pickle(\"C:/Users/RBTG/OneDrive/Desktop/Data science/data/licenses.p\")\n",
    "stations = pd.read_pickle(\"C:/Users/RBTG/OneDrive/Desktop/Data science/data/stations.p\")\n",
    "zip_demo = pd.read_pickle(\"C:/Users/RBTG/OneDrive/Desktop/Data science/data/zip_demo.p\")\n",
    "land_use = pd.read_pickle(\"C:/Users/RBTG/OneDrive/Desktop/Data science/data/land_use.p\")\n",
    "movies = pd.read_pickle(\"C:/Users/RBTG/OneDrive/Desktop/Data science/data/movies.p\")\n",
    "financials = pd.read_pickle(\"C:/Users/RBTG/OneDrive/Desktop/Data science/data/financials.p\")\n",
    "taglines = pd.read_pickle(\"C:/Users/RBTG/OneDrive/Desktop/Data science/data/taglines.p\")\n",
    "movie_to_genres = pd.read_pickle(\"C:/Users/RBTG/OneDrive/Desktop/Data science/data/movie_to_genres.p\")\n",
    "census_altered = pd.read_csv(\"C:/Users/RBTG/OneDrive/Desktop/Data science/data/census_altered.txt\")"
   ]
  },
  {
   "cell_type": "code",
   "execution_count": 3,
   "metadata": {},
   "outputs": [
    {
     "name": "stdout",
     "output_type": "stream",
     "text": [
      "\n",
      "   ward               alderman                            address    zip\n",
      "0    61     Proco \"Joe\" Moreno           2058NORTH WESTERN AVENUE  60647\n",
      "1     2          Brian Hopkins          1400 NORTH ASHLAND AVENUE  60622\n",
      "2     3             Pat Dowell            5046 SOUTH STATE STREET  60609\n",
      "3     4       William D. Burns     435 EAST 35TH STREET 1ST FLOOR  60616\n",
      "4     5     Leslie A. Hairston              2325 EAST 71ST STREET  60649\n",
      "5     6     Roderick T. Sawyer   8001 S. MARTIN LUTHER KING DRIVE  60619\n",
      "6     7    Gregory I. Mitchell              2249 EAST 95TH STREET  60617\n",
      "7     8     Michelle A. Harris    8539 SOUTH COTTAGE GROVE AVENUE  60619\n",
      "8     9       Anthony A. Beale                34 EAST 112TH PLACE  60628\n",
      "9    10  Susan Sadlowski Garza           10500 SOUTH EWING AVENUE  60617\n",
      "\n",
      "   ward  pop_2000  pop_2010 change                                  address  \\\n",
      "0   NaN     52951     56149     6%              2765 WEST SAINT MARY STREET   \n",
      "1   2.0     54361     55805     3%                 WM WASTE MANAGEMENT 1500   \n",
      "2   3.0     40385     53039    31%                      17 EAST 38TH STREET   \n",
      "3   4.0     51953     54589     5%  31ST ST HARBOR BUILDING LAKEFRONT TRAIL   \n",
      "4   5.0     55302     51455    -7%  JACKSON PARK LAGOON SOUTH CORNELL DRIVE   \n",
      "5   6.0     54989     52341    -5%                     150 WEST 74TH STREET   \n",
      "6   7.0     54593     51581    -6%                8549 SOUTH OGLESBY AVENUE   \n",
      "7   8.0     54039     51687    -4%               1346-1352 EAST 75TH STREET   \n",
      "8   9.0     52008     51519    -1%       11039-11059 SOUTH WENTWORTH AVENUE   \n",
      "9  10.0     56613     51535    -9%                     10534 SOUTH AVENUE F   \n",
      "\n",
      "     zip  \n",
      "0  60647  \n",
      "1  60622  \n",
      "2  60653  \n",
      "3  60653  \n",
      "4  60637  \n",
      "5  60636  \n",
      "6  60617  \n",
      "7  60649  \n",
      "8  60628  \n",
      "9  46394  \n"
     ]
    }
   ],
   "source": [
    "# have a look at the data sets\n",
    "#print(taxi_owners.head(10))\n",
    "print('')\n",
    "#print(taxi_veh.head(10))\n",
    "print(wards_altered.head(10))\n",
    "print(\"\")\n",
    "print(census_altered.head(10))"
   ]
  },
  {
   "cell_type": "markdown",
   "metadata": {},
   "source": [
    "You have been tasked with figuring out what the most popular types of fuel used in Chicago taxis are. To complete the analysis, you need to merge the taxi_owners and taxi_veh tables together on the vid column. You can then use the merged table along with the .value_counts() method to find the most common fuel_type.\n",
    "\n",
    "Since you'll be working with pandas throughout the course, the package will be preloaded for you as pd in each exercise in this course. Also the taxi_owners and taxi_veh DataFrames are loaded for you."
   ]
  },
  {
   "cell_type": "markdown",
   "metadata": {},
   "source": [
    "<li>Merge taxi_owners with taxi_veh on the column vid, and save the result to taxi_own_veh.</li>\n",
    "<li>Set the left and right table suffixes for overlapping columns of the merge to _own and _veh, respectively.</li>\n",
    "<li>Select the fuel_type column from taxi_own_veh and print the value_counts() to find the most popular fuel_types used.</li>"
   ]
  },
  {
   "cell_type": "code",
   "execution_count": 4,
   "metadata": {},
   "outputs": [
    {
     "name": "stdout",
     "output_type": "stream",
     "text": [
      "Index(['rid', 'vid', 'owner_x', 'address', 'zip', 'make', 'model', 'year',\n",
      "       'fuel_type', 'owner_y'],\n",
      "      dtype='object')\n"
     ]
    }
   ],
   "source": [
    "taxi_own_veh = taxi_owners.merge(taxi_veh, on='vid')\n",
    "print(taxi_own_veh.columns)"
   ]
  },
  {
   "cell_type": "code",
   "execution_count": 5,
   "metadata": {},
   "outputs": [
    {
     "name": "stdout",
     "output_type": "stream",
     "text": [
      "Index(['rid', 'vid', 'owner_own', 'address', 'zip', 'make', 'model', 'year',\n",
      "       'fuel_type', 'owner_veh'],\n",
      "      dtype='object')\n"
     ]
    }
   ],
   "source": [
    "# Merge the taxi_owners and taxi_veh tables setting a suffix\n",
    "taxi_own_veh = taxi_owners.merge(taxi_veh, on='vid', suffixes=('_own','_veh'))\n",
    "print(taxi_own_veh.columns)"
   ]
  },
  {
   "cell_type": "code",
   "execution_count": 6,
   "metadata": {},
   "outputs": [
    {
     "name": "stdout",
     "output_type": "stream",
     "text": [
      "fuel_type\n",
      "HYBRID                    2792\n",
      "GASOLINE                   611\n",
      "FLEX FUEL                   89\n",
      "COMPRESSED NATURAL GAS      27\n",
      "Name: count, dtype: int64\n"
     ]
    }
   ],
   "source": [
    "# Print the value_counts to find the most popular fuel_type\n",
    "print(taxi_own_veh['fuel_type'].value_counts())"
   ]
  },
  {
   "cell_type": "markdown",
   "metadata": {},
   "source": [
    "<span style=\"color:orange;\">\"Bravo! You correctly merged the two tables together and found out that the most common fuel type for taxis in Chicago are hybrids\"</span>"
   ]
  },
  {
   "cell_type": "markdown",
   "metadata": {},
   "source": [
    "<h2 style=\"color:orange;\">Inner joins and number of rows returned</h2>"
   ]
  },
  {
   "cell_type": "markdown",
   "metadata": {},
   "source": [
    "All of the merges you have studied to this point are called inner joins. It is necessary to understand that inner joins only return the rows with matching values in both tables. You will explore this further by reviewing the merge between the wards and census tables, then comparing it to merges of copies of these tables that are slightly altered, named wards_altered, and census_altered. The first row of the wards column has been changed in the altered tables. You will examine how this affects the merge between them. The tables have been loaded for you."
   ]
  },
  {
   "cell_type": "code",
   "execution_count": 7,
   "metadata": {},
   "outputs": [
    {
     "name": "stdout",
     "output_type": "stream",
     "text": [
      "   ward                   alderman                            address    zip\n",
      "0     1         Proco \"Joe\" Moreno          2058 NORTH WESTERN AVENUE  60647\n",
      "1     2              Brian Hopkins         1400 NORTH  ASHLAND AVENUE  60622\n",
      "2     3                 Pat Dowell            5046 SOUTH STATE STREET  60609\n",
      "3     4           William D. Burns    435 EAST 35TH STREET, 1ST FLOOR  60616\n",
      "4     5         Leslie A. Hairston              2325 EAST 71ST STREET  60649\n",
      "5     6         Roderick T. Sawyer   8001 S. MARTIN LUTHER KING DRIVE  60619\n",
      "6     7        Gregory I. Mitchell              2249 EAST 95TH STREET  60617\n",
      "7     8         Michelle A. Harris    8539 SOUTH COTTAGE GROVE AVENUE  60619\n",
      "8     9           Anthony A. Beale                34 EAST 112TH PLACE  60628\n",
      "9    10      Susan Sadlowski Garza           10500 SOUTH EWING AVENUE  60617\n",
      "10   11     Patrick Daley Thompson          3659 SOUTH HALSTED STREET  60609\n",
      "11   12            George Cardenas           3476 SOUTH ARCHER AVENUE  60608\n",
      "12   13                Marty Quinn            6500 SOUTH PULASKI ROAD  60629\n",
      "13   14            Edward M. Burke              2650 WEST 51ST STREET  60632\n",
      "14   15           Raymond A. Lopez              1650 WEST 63RD STREET  60636\n",
      "15   16            Toni L. Foulkes              3045 WEST 63RD STREET  60629\n",
      "16   17             David H. Moore          7313 SOUTH ASHLAND AVENUE  60636\n",
      "17   18          Derrick G. Curtis            8359 SOUTH PULASKI ROAD  60652\n",
      "18   19          Matthew J. O'Shea         10400 SOUTH WESTERN AVENUE  60643\n",
      "19   20          Willie B. Cochran    6357 SOUTH COTTAGE GROVE AVENUE  60637\n",
      "20   21    Howard B. Brookins, Jr.  9011 SOUTH ASHLAND AVENUE, UNIT B  60620\n",
      "21   22              Ricardo Munoz        2500 SOUTH ST. LOUIS AVENUE  60623\n",
      "22   23        Michael R. Zalewski           6247 SOUTH ARCHER AVENUE  60638\n",
      "23   24         Michael Scott, Jr.           1158 SOUTH KEELER AVENUE  60624\n",
      "24   25       Daniel \"Danny\" Solis      1800 SOUTH BLUE ISLAND AVENUE  60608\n",
      "25   26          Roberto Maldonado          2511 WEST DIVISION STREET  60622\n",
      "26   27        Walter Burnett, Jr.             4 NORTH WESTERN AVENUE  60612\n",
      "27   28             Jason C. Ervin              2602 WEST 16TH STREET  60612\n",
      "28   29           Chris Taliaferro             6272 WEST NORTH AVENUE  60639\n",
      "29   30          Ariel E. Reyboras        3559 NORTH MILWAUKEE AVENUE  60641\n",
      "30   31  Milagros \"Milly\" Santiago            2521 NORTH PULASKI ROAD  60639\n",
      "31   32           Scott Waguespack         2657 NORTH CLYBOURN AVENUE  60614\n",
      "32   33               Deborah Mell         3001 WEST IRVING PARK ROAD  60618\n",
      "33   34           Carrie M. Austin              507 WEST 111TH STREET  60628\n",
      "34   35        Carlos Ramirez-Rosa           2710 NORTH SAWYER AVENUE  60647\n",
      "35   36           Gilbert Villegas                 6934 WEST DIVERSEY  60607\n",
      "36   37              Emma M. Mitts           4924 WEST CHICAGO AVENUE  60651\n",
      "37   38           Nicholas Sposato          3821  NORTH HARLEM AVENUE  60634\n",
      "38   39           Margaret Laurino          4404 WEST LAWRENCE AVENUE  60630\n",
      "39   40        Patrick J. O'Connor          5850 NORTH LINCOLN AVENUE  60659\n",
      "40   41      Anthony V. Napolitano           7442 NORTH HARLEM AVENUE  60631\n",
      "41   42             Brendan Reilly   325 WEST HURON STREET, SUITE 510  60654\n",
      "42   43             Michelle Smith          2523 NORTH HALSTED STREET  60614\n",
      "43   44                 Tom Tunney        3223 NORTH SHEFFIELD AVENUE  60657\n",
      "44   45              John S. Arena        4754 NORTH MILWAUKEE AVENUE  60630\n",
      "45   46            James Cappleman         4544 NORTH BROADWAY AVENUE  60640\n",
      "46   47                Ameya Pawar          4243 NORTH LINCOLN AVENUE  60618\n",
      "47   48             Harry Osterman         5533 NORTH BROADWAY AVENUE  60640\n",
      "48   49                  Joe Moore        7356 NORTH GREENVIEW AVENUE  60626\n",
      "49   50       Debra L. Silverstein    2949 WEST DEVON AVENUE, SUITE A  60659\n",
      "Index(['ward', 'alderman', 'address', 'zip'], dtype='object')\n"
     ]
    }
   ],
   "source": [
    "print(wards.head(50))\n",
    "print(wards.columns)"
   ]
  },
  {
   "cell_type": "code",
   "execution_count": 8,
   "metadata": {},
   "outputs": [
    {
     "name": "stdout",
     "output_type": "stream",
     "text": [
      "wards_census table shape: (50, 9)\n"
     ]
    }
   ],
   "source": [
    "# Merge the wards and census tables on the ward column\n",
    "wards_census = wards.merge(census,on='ward')\n",
    "\n",
    "# Print the shape of wards_census\n",
    "print('wards_census table shape:', wards_census.shape)\n"
   ]
  },
  {
   "cell_type": "markdown",
   "metadata": {},
   "source": [
    "The apply function with lambda checks each value in census_altered['ward']:\n",
    "\n",
    "If the value is not NaN, it converts it to an integer first (to remove the decimal point) and then to a string.\n",
    "\n",
    "If the value is NaN, it remains unchanged."
   ]
  },
  {
   "cell_type": "code",
   "execution_count": 9,
   "metadata": {},
   "outputs": [],
   "source": [
    "wards_altered['ward'] = wards_altered['ward'].fillna(61).astype(str)\n",
    "census_altered['ward'] = census_altered['ward'].apply(lambda x: str(int(x)) if not pd.isna(x) else x)\n",
    "#census_altered['ward'] =census_altered['ward'].astype(int).astype(str)\n",
    "wards_altered['zip'] =census_altered['zip'].astype(object)\n"
   ]
  },
  {
   "cell_type": "code",
   "execution_count": 10,
   "metadata": {},
   "outputs": [
    {
     "name": "stdout",
     "output_type": "stream",
     "text": [
      "  ward\n",
      "0   61\n",
      "1    2\n",
      "2    3\n",
      "3    4\n",
      "4    5\n",
      "['61' '2' '3' '4' '5' '6' '7' '8' '9' '10' '11' '12' '13' '14' '15' '16'\n",
      " '17' '18' '19' '20' '21' '22' '23' '24' '25' '26' '27' '28' '29' '30'\n",
      " '31' '32' '33' '34' '35' '36' '37' '38' '39' '40' '41' '42' '43' '44'\n",
      " '45' '46' '47' '48' '49' '50']\n",
      "[nan '2' '3' '4' '5' '6' '7' '8' '9' '10' '11' '12' '13' '14' '15' '16'\n",
      " '17' '18' '19' '20' '21' '22' '23' '24' '25' '26' '27' '28' '29' '30'\n",
      " '31' '32' '33' '34' '35' '36' '37' '38' '39' '40' '41' '42' '43' '44'\n",
      " '45' '46' '47' '48' '49' '50']\n",
      "['1' '2' '3' '4' '5' '6' '7' '8' '9' '10' '11' '12' '13' '14' '15' '16'\n",
      " '17' '18' '19' '20' '21' '22' '23' '24' '25' '26' '27' '28' '29' '30'\n",
      " '31' '32' '33' '34' '35' '36' '37' '38' '39' '40' '41' '42' '43' '44'\n",
      " '45' '46' '47' '48' '49' '50']\n",
      "['60647' '60622' '60609' '60616' '60649' '60619' '60617' '60628' '60608'\n",
      " '60629' '60632' '60636' '60652' '60643' '60637' '60620' '60623' '60638'\n",
      " '60624' '60612' '60639' '60641' '60614' '60618' '60607' '60651' '60634'\n",
      " '60630' '60659' '60631' '60654' '60657' '60640' '60626']\n",
      "wards_altered_census table shape: (49, 9)\n"
     ]
    }
   ],
   "source": [
    "# Print the first few rows of the wards_altered table to view the change \n",
    "print(wards_altered[['ward']].head())\n",
    "print(wards_altered['ward'].unique())\n",
    "print(census_altered['ward'].unique())\n",
    "print(wards['ward'].unique())\n",
    "print(wards['zip'].unique())\n",
    "wards_altered['ward'] = wards_altered['ward'].str.strip()\n",
    "census['ward'] = census['ward'].str.strip()\n",
    "\n",
    "# Try merging again after cleaning\n",
    "wards_altered_census = wards_altered.merge(census, on='ward')\n",
    "print('wards_altered_census table shape:', wards_altered_census.shape)\n",
    "\n",
    "# Merge the wards_altered and census tables on the ward column\n",
    "#wards_altered_census = wards_altered.merge(census, on='ward')\n",
    "\n",
    "# Print the shape of wards_altered_census\n",
    "#print('wards_altered_census table shape:', wards_altered_census.shape)"
   ]
  },
  {
   "cell_type": "code",
   "execution_count": 11,
   "metadata": {},
   "outputs": [
    {
     "name": "stdout",
     "output_type": "stream",
     "text": [
      "[nan '2' '3' '4' '5' '6' '7' '8' '9' '10' '11' '12' '13' '14' '15' '16'\n",
      " '17' '18' '19' '20' '21' '22' '23' '24' '25' '26' '27' '28' '29' '30'\n",
      " '31' '32' '33' '34' '35' '36' '37' '38' '39' '40' '41' '42' '43' '44'\n",
      " '45' '46' '47' '48' '49' '50']\n",
      "['1' '2' '3' '4' '5' '6' '7' '8' '9' '10' '11' '12' '13' '14' '15' '16'\n",
      " '17' '18' '19' '20' '21' '22' '23' '24' '25' '26' '27' '28' '29' '30'\n",
      " '31' '32' '33' '34' '35' '36' '37' '38' '39' '40' '41' '42' '43' '44'\n",
      " '45' '46' '47' '48' '49' '50']\n"
     ]
    }
   ],
   "source": [
    "print(census_altered['ward'].unique())\n",
    "print(wards['ward'].unique())"
   ]
  },
  {
   "cell_type": "code",
   "execution_count": 12,
   "metadata": {},
   "outputs": [
    {
     "name": "stdout",
     "output_type": "stream",
     "text": [
      "  ward\n",
      "0  NaN\n",
      "1    2\n",
      "2    3\n",
      "3    4\n",
      "4    5\n",
      "wards_census_altered table shape: (49, 9)\n"
     ]
    }
   ],
   "source": [
    "# Print the first few rows of the census_altered table to view the change \n",
    "print(census_altered[['ward']].head())\n",
    "\n",
    "# Merge the wards and census_altered tables on the ward column\n",
    "wards_census_altered = wards.merge(census_altered,on='ward')\n",
    "\n",
    "# Print the shape of wards_census_altered\n",
    "print('wards_census_altered table shape:', wards_census_altered.shape)"
   ]
  },
  {
   "cell_type": "markdown",
   "metadata": {},
   "source": [
    "<h2 style=\"color:orange;\">One to one relationship</h2>\n",
    "\n",
    "In a one-to-one (1:1) relationship between dataframes, each record in one dataframe maps to exactly one record in another dataframe, and vice versa. This is different from a one-to-many or many-to-many relationship where multiple records in one dataframe can map to multiple records in another dataframe.\n",
    "\n",
    "Here's how you can manage a one-to-one relationship between two dataframes using pandas:"
   ]
  },
  {
   "cell_type": "code",
   "execution_count": 13,
   "metadata": {},
   "outputs": [
    {
     "name": "stdout",
     "output_type": "stream",
     "text": [
      "   id     name  age\n",
      "0   1    Alice   25\n",
      "1   2      Bob   30\n",
      "2   3  Charlie   35\n"
     ]
    }
   ],
   "source": [
    "import pandas as pd\n",
    "\n",
    "# DataFrame 1\n",
    "df1 = pd.DataFrame({\n",
    "    'id': [1, 2, 3],\n",
    "    'name': ['Alice', 'Bob', 'Charlie']\n",
    "})\n",
    "\n",
    "# DataFrame 2\n",
    "df2 = pd.DataFrame({\n",
    "    'id': [1, 2, 3],\n",
    "    'age': [25, 30, 35]\n",
    "})\n",
    "\n",
    "# Merge df1 and df2 on 'id'\n",
    "merged_df = pd.merge(df1, df2, on='id')\n",
    "print(merged_df)\n",
    "\n"
   ]
  },
  {
   "cell_type": "markdown",
   "metadata": {},
   "source": [
    "Ensure Uniqueness: Make sure that the key column(s) used for merging are unique in both dataframes to maintain a true one-to-one relationship.\n",
    "\n",
    "Join Types: Use different join types (inner, outer, left, right) as needed. An inner join is typically used for one-to-one relationships if you only want records that exist in both dataframes."
   ]
  },
  {
   "cell_type": "markdown",
   "metadata": {},
   "source": [
    "<h2 style=\"color:orange;\">One to many relationship</h2>\n",
    "\n",
    "A one-to-many relationship in dataframes means that one record in one dataframe (the parent) can relate to multiple records in another dataframe (the child). In pandas, this relationship can be managed using the\n",
    "\n",
    " merge function, where one dataframe has unique values in the key column, and the other dataframe has duplicate values in the same key column.\n",
    "\n",
    " One-to-many relationship: Alice (customer_id = 1) has two orders (order_id = 101 and 103), while Bob and Charlie have one order each.\n",
    " \n",
    "The merge function duplicates the rows from the parent dataframe (customers) based on the number of matching rows in the child dataframe (orders)."
   ]
  },
  {
   "cell_type": "code",
   "execution_count": 14,
   "metadata": {},
   "outputs": [
    {
     "name": "stdout",
     "output_type": "stream",
     "text": [
      "   customer_id     name  order_id  product\n",
      "0            1    Alice       101   Laptop\n",
      "1            1    Alice       103   Tablet\n",
      "2            2      Bob       102    Phone\n",
      "3            3  Charlie       104  Monitor\n"
     ]
    }
   ],
   "source": [
    "import pandas as pd\n",
    "\n",
    "# Parent DataFrame: Customers\n",
    "customers = pd.DataFrame({\n",
    "    'customer_id': [1, 2, 3],\n",
    "    'name': ['Alice', 'Bob', 'Charlie']\n",
    "})\n",
    "\n",
    "# Child DataFrame: Orders (multiple orders per customer)\n",
    "orders = pd.DataFrame({\n",
    "    'order_id': [101, 102, 103, 104],\n",
    "    'customer_id': [1, 2, 1, 3],\n",
    "    'product': ['Laptop', 'Phone', 'Tablet', 'Monitor']\n",
    "})\n",
    "\n",
    "# Merge customers with orders using 'customer_id'\n",
    "merged_df = pd.merge(customers, orders, on='customer_id')\n",
    "print(merged_df)"
   ]
  },
  {
   "cell_type": "markdown",
   "metadata": {},
   "source": [
    "<h2 style=\"color:orange\">Join Types</h2>\n",
    "\n",
    "<h4>Inner Join</h4> \n",
    "\n",
    "Only includes rows where the key exists in both dataframes.\n",
    "\n",
    "<h4>Left Join</h4> \n",
    "\n",
    "All rows from the left (parent) dataframe are included, even if there is no match in the right (child) dataframe.\n",
    "\n",
    "<h4>Right Join</h4> \n",
    "\n",
    "All rows from the right (child) dataframe are included, even if there is no match in the left (parent) dataframe."
   ]
  },
  {
   "cell_type": "markdown",
   "metadata": {},
   "source": [
    "<h2 style=\"color:orange\">Difference between nunique ( ) and count ( )</h2>\n",
    "\n",
    "Use .count ( ) to count total non-null values.\n",
    "\n",
    "Use .nunique ( ) to count distinct values, ignoring duplicates."
   ]
  },
  {
   "cell_type": "code",
   "execution_count": 15,
   "metadata": {},
   "outputs": [
    {
     "name": "stdout",
     "output_type": "stream",
     "text": [
      "output with count() :  4\n",
      "output with nunique() :  3\n"
     ]
    }
   ],
   "source": [
    "import pandas as pd\n",
    "\n",
    "# Sample data\n",
    "df = pd.DataFrame({\n",
    "    'values': [1, 2, 2, None, 3]\n",
    "})\n",
    "\n",
    "# Count all non-null values\n",
    "print(\"output with count() : \" , df['values'].count())  # Output: 4\n",
    "\n",
    "# Count unique values\n",
    "print(\"output with nunique() : \",df['values'].nunique())  # Output: 3\n",
    "\n"
   ]
  },
  {
   "cell_type": "markdown",
   "metadata": {},
   "source": [
    " <h2 style=\"color:orange\">Merging Multiple Dataframes</h2>\n",
    "\n",
    " When merging multiple DataFrames in pandas, you can use the pd.merge() function iteratively or use pd.concat() if the DataFrames share the same structure. \n",
    " \n",
    " Below are two common approaches for merging multiple DataFrames."
   ]
  },
  {
   "cell_type": "markdown",
   "metadata": {},
   "source": [
    "<ol>\n",
    "<li>Using pd.merge() for Multiple DataFrames</li>\n",
    "</ol>\n",
    "\n",
    "    If you have multiple DataFrames that you need to merge based on a common key, you can chain the merge() method.\n",
    "    Let's assume you have three DataFrames: df1, df2, and df3."
   ]
  },
  {
   "cell_type": "code",
   "execution_count": 16,
   "metadata": {},
   "outputs": [
    {
     "name": "stdout",
     "output_type": "stream",
     "text": [
      "merged_df1 : \n",
      "\n",
      "    id   name  age\n",
      "0   1  Alice   25\n",
      "1   2    Bob   30\n",
      "\n",
      "   id   name  age city\n",
      "0   1  Alice   25  NYC\n"
     ]
    }
   ],
   "source": [
    "import pandas as pd\n",
    "\n",
    "# Sample DataFrames\n",
    "df1 = pd.DataFrame({\n",
    "    'id': [1, 2, 3],\n",
    "    'name': ['Alice', 'Bob', 'Charlie']\n",
    "})\n",
    "\n",
    "df2 = pd.DataFrame({\n",
    "    'id': [1, 2, 4],\n",
    "    'age': [25, 30, 40]\n",
    "})\n",
    "\n",
    "df3 = pd.DataFrame({\n",
    "    'id': [1, 3, 4],\n",
    "    'city': ['NYC', 'LA', 'Chicago']\n",
    "})\n",
    "\n",
    "# Merge df1 with df2 on 'id'\n",
    "merged_df1 = pd.merge(df1, df2, on='id')\n",
    "print(\"merged_df1 : \\n\\n\" ,merged_df1)\n",
    "\n",
    "\n",
    "# Merge the result with df3 on 'id'\n",
    "final_merged_df = pd.merge(merged_df1, df3, on='id')\n",
    "print(\"\")\n",
    "\n",
    "print(final_merged_df)\n"
   ]
  },
  {
   "cell_type": "code",
   "execution_count": 17,
   "metadata": {},
   "outputs": [
    {
     "name": "stdout",
     "output_type": "stream",
     "text": [
      "     station_id  year  month  day  rides\n",
      "0         40010  2019      1    1    576\n",
      "1         40010  2019      1    2   1457\n",
      "2         40010  2019      1    3   1543\n",
      "3         40010  2019      1    4   1621\n",
      "4         40010  2019      1    5    719\n",
      "...         ...   ...    ...  ...    ...\n",
      "3280      41660  2019     12   27  13898\n",
      "3281      41660  2019     12   28   9485\n",
      "3282      41660  2019     12   29   7581\n",
      "3283      41660  2019     12   30  15332\n",
      "3284      41660  2019     12   31  13430\n",
      "\n",
      "[3285 rows x 5 columns]\n",
      "     year  month  day        day_type\n",
      "0    2019      1    1  Sunday/Holiday\n",
      "1    2019      1    2         Weekday\n",
      "2    2019      1    3         Weekday\n",
      "3    2019      1    4         Weekday\n",
      "4    2019      1    5        Saturday\n",
      "..    ...    ...  ...             ...\n",
      "360  2019     12   27         Weekday\n",
      "361  2019     12   28        Saturday\n",
      "362  2019     12   29  Sunday/Holiday\n",
      "363  2019     12   30         Weekday\n",
      "364  2019     12   31         Weekday\n",
      "\n",
      "[365 rows x 4 columns]\n"
     ]
    }
   ],
   "source": [
    "print(ridership)\n",
    "print(cal)\n"
   ]
  },
  {
   "cell_type": "code",
   "execution_count": 18,
   "metadata": {},
   "outputs": [
    {
     "name": "stdout",
     "output_type": "stream",
     "text": [
      "    station_id            station_name                     location\n",
      "0        40010      Austin-Forest Park      (41.870851, -87.776812)\n",
      "1        40020             Harlem-Lake      (41.886848, -87.803176)\n",
      "2        40030            Pulaski-Lake      (41.885412, -87.725404)\n",
      "3        40040            Quincy/Wells       (41.878723, -87.63374)\n",
      "4        40050                   Davis       (42.04771, -87.683543)\n",
      "..         ...                     ...                          ...\n",
      "139      41660              Lake/State      (41.884809, -87.627813)\n",
      "140      41670            Conservatory      (41.884904, -87.716523)\n",
      "141      41680           Oakton-Skokie  (42.02624348, -87.74722084)\n",
      "142      41690  Cermak-McCormick Place      (41.853115, -87.626402)\n",
      "143      41700       Washington/Wabash       (41.88322, -87.626189)\n",
      "\n",
      "[144 rows x 3 columns]\n"
     ]
    }
   ],
   "source": [
    "print(stations)"
   ]
  },
  {
   "cell_type": "markdown",
   "metadata": {},
   "source": [
    "<h3 style=\"color:orange;\">Total riders in a month</h3>\n",
    "\n",
    "Your goal is to find the total number of rides provided to passengers passing through the Wilson station (station_name == 'Wilson') when riding Chicago's public transportation system \n",
    "\n",
    "on weekdays (day_type == 'Weekday') in July (month == 7). Luckily, Chicago provides this detailed data, but it is in three different tables. You will work on merging these tables \n",
    "\n",
    "together to answer the question. This data is different from the business related data you have seen so far, but all the information you need to answer the question is provided.\n"
   ]
  },
  {
   "cell_type": "markdown",
   "metadata": {},
   "source": [
    "Merge the ridership and cal tables together, starting with the ridership table on the left and save the result to the variable ridership_cal. \n"
   ]
  },
  {
   "cell_type": "code",
   "execution_count": 19,
   "metadata": {},
   "outputs": [
    {
     "name": "stdout",
     "output_type": "stream",
     "text": [
      "     station_id  year  month  day  rides        day_type\n",
      "0         40010  2019      1    1    576  Sunday/Holiday\n",
      "1         40010  2019      1    2   1457         Weekday\n",
      "2         40010  2019      1    3   1543         Weekday\n",
      "3         40010  2019      1    4   1621         Weekday\n",
      "4         40010  2019      1    5    719        Saturday\n",
      "...         ...   ...    ...  ...    ...             ...\n",
      "3280      41660  2019     12   27  13898         Weekday\n",
      "3281      41660  2019     12   28   9485        Saturday\n",
      "3282      41660  2019     12   29   7581  Sunday/Holiday\n",
      "3283      41660  2019     12   30  15332         Weekday\n",
      "3284      41660  2019     12   31  13430         Weekday\n",
      "\n",
      "[3285 rows x 6 columns]\n"
     ]
    }
   ],
   "source": [
    "# Merge the ridership and cal tables\n",
    "ridership_cal = ridership.merge(cal,on=['year','month','day'])\n",
    "print(ridership_cal)"
   ]
  },
  {
   "cell_type": "markdown",
   "metadata": {},
   "source": [
    "Extend the previous merge to three tables by also merging the stations table."
   ]
  },
  {
   "cell_type": "code",
   "execution_count": 20,
   "metadata": {},
   "outputs": [
    {
     "name": "stdout",
     "output_type": "stream",
     "text": [
      "     station_id  year  month  day  rides        day_type        station_name  \\\n",
      "0         40010  2019      1    1    576  Sunday/Holiday  Austin-Forest Park   \n",
      "1         40010  2019      1    2   1457         Weekday  Austin-Forest Park   \n",
      "2         40010  2019      1    3   1543         Weekday  Austin-Forest Park   \n",
      "3         40010  2019      1    4   1621         Weekday  Austin-Forest Park   \n",
      "4         40010  2019      1    5    719        Saturday  Austin-Forest Park   \n",
      "...         ...   ...    ...  ...    ...             ...                 ...   \n",
      "3280      41660  2019     12   27  13898         Weekday          Lake/State   \n",
      "3281      41660  2019     12   28   9485        Saturday          Lake/State   \n",
      "3282      41660  2019     12   29   7581  Sunday/Holiday          Lake/State   \n",
      "3283      41660  2019     12   30  15332         Weekday          Lake/State   \n",
      "3284      41660  2019     12   31  13430         Weekday          Lake/State   \n",
      "\n",
      "                     location  \n",
      "0     (41.870851, -87.776812)  \n",
      "1     (41.870851, -87.776812)  \n",
      "2     (41.870851, -87.776812)  \n",
      "3     (41.870851, -87.776812)  \n",
      "4     (41.870851, -87.776812)  \n",
      "...                       ...  \n",
      "3280  (41.884809, -87.627813)  \n",
      "3281  (41.884809, -87.627813)  \n",
      "3282  (41.884809, -87.627813)  \n",
      "3283  (41.884809, -87.627813)  \n",
      "3284  (41.884809, -87.627813)  \n",
      "\n",
      "[3285 rows x 8 columns]\n"
     ]
    }
   ],
   "source": [
    "# Merge the ridership, cal, and stations tables\n",
    "ridership_cal_stations = ridership.merge(cal, on=['year','month','day']) \\\n",
    "            \t\t\t\t.merge(stations,on='station_id')\n",
    "print(ridership_cal_stations)                "
   ]
  },
  {
   "cell_type": "code",
   "execution_count": 21,
   "metadata": {},
   "outputs": [
    {
     "name": "stdout",
     "output_type": "stream",
     "text": [
      "140005\n"
     ]
    }
   ],
   "source": [
    "# Create a filter to filter ridership_cal_stations\n",
    "filter_criteria = ((ridership_cal_stations['month'] == 7) \n",
    "                   & (ridership_cal_stations['day_type'] =='Weekday') \n",
    "                   & (ridership_cal_stations['station_name'] == 'Wilson'))\n",
    "\n",
    "# Use .loc and the filter to select for rides\n",
    "print(ridership_cal_stations.loc[filter_criteria, 'rides'].sum())"
   ]
  },
  {
   "cell_type": "code",
   "execution_count": 22,
   "metadata": {},
   "outputs": [
    {
     "name": "stdout",
     "output_type": "stream",
     "text": [
      "                             totalRides\n",
      "month day_type station_name            \n",
      "7     Weekday  Wilson            140005\n"
     ]
    }
   ],
   "source": [
    "filtered_data = ridership_cal_stations[\n",
    "    (ridership_cal_stations['month'] == 7) &  # Replace 'desired_month' with your value\n",
    "    (ridership_cal_stations['day_type'] == 'Weekday') &  # Replace with the desired day type\n",
    "    (ridership_cal_stations['station_name'] == 'Wilson')  # Replace with the station name\n",
    "]\n",
    "print(filtered_data.groupby(['month','day_type','station_name']).agg(totalRides=('rides','sum')))"
   ]
  },
  {
   "cell_type": "markdown",
   "metadata": {},
   "source": [
    "Awesome work! You merged three DataFrames together, including merging two tables on multiple columns. Once the tables were merged, you filtered and selected just like any other \n",
    "\n",
    "DataFrame. Finally, you found out that the Wilson station had 140,005 riders during weekdays in July."
   ]
  },
  {
   "cell_type": "markdown",
   "metadata": {},
   "source": [
    "<h3 style=\"color:orange;\">Three table merge</h3>\n",
    "\n",
    "To solidify the concept of a three DataFrame merge, practice another exercise. A reasonable extension of our review of Chicago business data would include looking at demographics \n",
    "\n",
    "information about the neighborhoods where the businesses are. A table with the median income by zip code has been provided to you. You will merge the licenses and wards tables with \n",
    "\n",
    "this new income-by-zip-code table called zip_demo.\n",
    "\n",
    "The licenses, wards, and zip_demo DataFrames have been loaded for you."
   ]
  },
  {
   "cell_type": "code",
   "execution_count": 23,
   "metadata": {},
   "outputs": [
    {
     "name": "stdout",
     "output_type": "stream",
     "text": [
      "                             income\n",
      "alderman                           \n",
      "Ameya Pawar                 66246.0\n",
      "Anthony A. Beale            38206.0\n",
      "Anthony V. Napolitano       82226.0\n",
      "Ariel E. Reyboras           41307.0\n",
      "Brendan Reilly             110215.0\n",
      "Brian Hopkins               87143.0\n",
      "Carlos Ramirez-Rosa         66246.0\n",
      "Carrie M. Austin            38206.0\n",
      "Chris Taliaferro            55566.0\n",
      "Daniel \"Danny\" Solis        41226.0\n",
      "David H. Moore              33304.0\n",
      "Deborah Mell                66246.0\n",
      "Debra L. Silverstein        50554.0\n",
      "Derrick G. Curtis           65770.0\n",
      "Edward M. Burke             42335.0\n",
      "Emma M. Mitts               36283.0\n",
      "George Cardenas             33959.0\n",
      "Gilbert Villegas            41307.0\n",
      "Gregory I. Mitchell         24941.0\n",
      "Harry Osterman              45442.0\n",
      "Howard B. Brookins, Jr.     33304.0\n",
      "James Cappleman             79565.0\n",
      "Jason C. Ervin              41226.0\n",
      "Joe Moore                   39163.0\n",
      "John S. Arena               70122.0\n",
      "Leslie A. Hairston          28024.0\n",
      "Margaret Laurino            70122.0\n",
      "Marty Quinn                 67045.0\n",
      "Matthew J. O'Shea           59488.0\n",
      "Michael R. Zalewski         42335.0\n",
      "Michael Scott, Jr.          31445.0\n",
      "Michelle A. Harris          32558.0\n",
      "Michelle Smith             100116.0\n",
      "Milagros \"Milly\" Santiago   41307.0\n",
      "Nicholas Sposato            62223.0\n",
      "Pat Dowell                  46340.0\n",
      "Patrick Daley Thompson      41226.0\n",
      "Patrick J. O'Connor         50554.0\n",
      "Proco \"Joe\" Moreno          87143.0\n",
      "Raymond A. Lopez            33959.0\n",
      "Ricardo Munoz               31445.0\n",
      "Roberto Maldonado           68223.0\n",
      "Roderick T. Sawyer          32558.0\n",
      "Scott Waguespack            68223.0\n",
      "Susan Sadlowski Garza       38417.0\n",
      "Tom Tunney                  88708.0\n",
      "Toni L. Foulkes             27573.0\n",
      "Walter Burnett, Jr.         87143.0\n",
      "William D. Burns           107811.0\n",
      "Willie B. Cochran           28024.0\n"
     ]
    }
   ],
   "source": [
    "# Merge licenses and zip_demo, on zip; and merge the wards on ward\n",
    "licenses_zip_ward = licenses.merge(zip_demo,on='zip') \\\n",
    "            \t\t\t.merge(wards,on='ward')\n",
    "\n",
    "# Print the results by alderman and show median income\n",
    "print(licenses_zip_ward.groupby('alderman').agg({'income':'median'}))"
   ]
  },
  {
   "cell_type": "markdown",
   "metadata": {},
   "source": [
    "<h3 style=\"color:orange;\">One-to-many merge with multiple tables</h3>\n",
    "\n",
    "In this exercise, assume that you are looking to start a business in the city of Chicago. Your perfect idea is to start a company that uses goats to mow the lawn for other businesses.\n",
    "\n",
    " However, you have to choose a location in the city to put your goat farm. You need a location with a great deal of space and relatively few businesses and people around to avoid \n",
    " \n",
    " complaints about the smell. You will need to merge three tables to help you choose your location. The land_use table has info on the percentage of vacant land by city ward. The census \n",
    " \n",
    " table has population by ward, and the licenses table lists businesses by ward.\n",
    "\n",
    "The land_use, census, and licenses tables have been loaded for you.\n",
    "\n",
    "Merge land_use and census on the ward column. Merge the result of this with licenses on the ward column, using the suffix _cen for the left table and _lic for the right table.\n",
    "\n",
    " Save this to the variable land_cen_lic."
   ]
  },
  {
   "cell_type": "code",
   "execution_count": 24,
   "metadata": {},
   "outputs": [
    {
     "name": "stdout",
     "output_type": "stream",
     "text": [
      "   ward  pop_2010  vacant  account\n",
      "47    7     51581      19       80\n",
      "12   20     52372      15      123\n",
      "1    10     51535      14      130\n",
      "16   24     54909      13       98\n",
      "7    16     51954      13      156\n"
     ]
    }
   ],
   "source": [
    "# Merge land_use and census and merge result with licenses including suffixes\n",
    "land_cen_lic = land_use.merge(census, on='ward') \\\n",
    "                    .merge(licenses, on='ward', suffixes=('_cen','_lic'))\n",
    "\n",
    "# Group by ward, pop_2010, and vacant, then count the # of accounts\n",
    "pop_vac_lic = land_cen_lic.groupby(['ward','pop_2010','vacant'], \n",
    "                                   as_index=False).agg({'account':'count'})\n",
    "\n",
    "# Sort pop_vac_lic and print the results\n",
    "sorted_pop_vac_lic = pop_vac_lic.sort_values(['vacant','account','pop_2010'], \n",
    "                                             ascending=[False,True,True])\n",
    "\n",
    "# Print the top few rows of sorted_pop_vac_lic\n",
    "print(sorted_pop_vac_lic.head())"
   ]
  },
  {
   "cell_type": "markdown",
   "metadata": {},
   "source": [
    "Great job putting your new skills into action. You merged multiple tables with varying relationships and added suffixes to make your column names clearer.\n",
    "\n",
    " Using your skills, you were able to pull together information from different tables to see that the 7th ward would be a good place to build your goat farm!"
   ]
  },
  {
   "cell_type": "markdown",
   "metadata": {},
   "source": [
    "<h2 style='color:orange;'>Left Join</h2>\n",
    "\n",
    "In pandas, you can perform a left join using the merge() function. A left join returns all the rows from the left DataFrame and only the matching rows from the right DataFrame.\n",
    "\n",
    "Here’s an example of how to perform a left join in pandas:\n",
    "\n",
    "<li>df1 is the left DataFrame.</li>\n",
    "<li>df2 is the right DataFrame.</li>\n",
    "<li>The how='left' argument ensures that all rows from df1 are returned, with matching rows from df2. If there is no match, the result contains NaN values for columns from df2.</li>\n"
   ]
  },
  {
   "cell_type": "code",
   "execution_count": 25,
   "metadata": {},
   "outputs": [
    {
     "name": "stdout",
     "output_type": "stream",
     "text": [
      "  key  value1  value2\n",
      "0   A       1     5.0\n",
      "1   B       2     6.0\n",
      "2   C       3     NaN\n",
      "3   D       4     NaN\n"
     ]
    }
   ],
   "source": [
    "# Sample DataFrames\n",
    "df1 = pd.DataFrame({\n",
    "    'key': ['A', 'B', 'C', 'D'],\n",
    "    'value1': [1, 2, 3, 4]\n",
    "})\n",
    "\n",
    "df2 = pd.DataFrame({\n",
    "    'key': ['A', 'B', 'E', 'F'],\n",
    "    'value2': [5, 6, 7, 8]\n",
    "})\n",
    "\n",
    "# Perform left join\n",
    "result = pd.merge(df1, df2, how='left', on='key')\n",
    "\n",
    "print(result)\n"
   ]
  },
  {
   "cell_type": "markdown",
   "metadata": {},
   "source": [
    "<h3 style='color:orange;'>Counting missing rows with left join</h3>\n",
    "The Movie Database is supported by volunteers going out into the world, collecting data, and entering it into the database. This includes financial data, such as movie budget and \n",
    "\n",
    "revenue. If you wanted to know which movies are still missing data, you could use a left join to identify them. Practice using a left join by merging the movies table and the \n",
    "\n",
    "financials table.\n",
    "\n",
    "The movies and financials tables have been loaded for you."
   ]
  },
  {
   "cell_type": "code",
   "execution_count": 26,
   "metadata": {},
   "outputs": [
    {
     "name": "stdout",
     "output_type": "stream",
     "text": [
      "Missing values are : 1574\n"
     ]
    }
   ],
   "source": [
    "# Merge the movies table with the financials table with a left join\n",
    "movies_financials = movies.merge(financials, on='id', how='left')\n",
    "\n",
    "# Count the number of rows in the budget column that are missing\n",
    "number_of_missing_fin = movies_financials['budget'].isna().sum()\n",
    "\n",
    "# Print the number of movies missing financials\n",
    "print('Missing values are :' ,number_of_missing_fin)"
   ]
  },
  {
   "cell_type": "markdown",
   "metadata": {},
   "source": [
    "Great job! You used a left join to find out which rows in the financials table were missing data. When performing a left join, the .merge() method returns a row full of null values for\n",
    "\n",
    " columns in the right table if the key column does not have a matching value in both tables. We see that there are at least 1,500 rows missing data. Wow! That sounds like a lot of work."
   ]
  },
  {
   "cell_type": "code",
   "execution_count": 27,
   "metadata": {},
   "outputs": [
    {
     "data": {
      "text/html": [
       "<div>\n",
       "<style scoped>\n",
       "    .dataframe tbody tr th:only-of-type {\n",
       "        vertical-align: middle;\n",
       "    }\n",
       "\n",
       "    .dataframe tbody tr th {\n",
       "        vertical-align: top;\n",
       "    }\n",
       "\n",
       "    .dataframe thead th {\n",
       "        text-align: right;\n",
       "    }\n",
       "</style>\n",
       "<table border=\"1\" class=\"dataframe\">\n",
       "  <thead>\n",
       "    <tr style=\"text-align: right;\">\n",
       "      <th></th>\n",
       "      <th>id</th>\n",
       "      <th>title</th>\n",
       "      <th>popularity</th>\n",
       "      <th>release_date</th>\n",
       "    </tr>\n",
       "  </thead>\n",
       "  <tbody>\n",
       "    <tr>\n",
       "      <th>103</th>\n",
       "      <td>10193</td>\n",
       "      <td>Toy Story 3</td>\n",
       "      <td>59.995418</td>\n",
       "      <td>2010-06-16</td>\n",
       "    </tr>\n",
       "    <tr>\n",
       "      <th>2637</th>\n",
       "      <td>863</td>\n",
       "      <td>Toy Story 2</td>\n",
       "      <td>73.575118</td>\n",
       "      <td>1999-10-30</td>\n",
       "    </tr>\n",
       "    <tr>\n",
       "      <th>3716</th>\n",
       "      <td>862</td>\n",
       "      <td>Toy Story</td>\n",
       "      <td>73.640445</td>\n",
       "      <td>1995-10-30</td>\n",
       "    </tr>\n",
       "  </tbody>\n",
       "</table>\n",
       "</div>"
      ],
      "text/plain": [
       "         id        title  popularity release_date\n",
       "103   10193  Toy Story 3   59.995418   2010-06-16\n",
       "2637    863  Toy Story 2   73.575118   1999-10-30\n",
       "3716    862    Toy Story   73.640445   1995-10-30"
      ]
     },
     "execution_count": 27,
     "metadata": {},
     "output_type": "execute_result"
    }
   ],
   "source": [
    "toy_story = movies[movies['title'].isin(['Toy Story', 'Toy Story 2', 'Toy Story 3'])]\n",
    "\n",
    "toy_story"
   ]
  },
  {
   "cell_type": "code",
   "execution_count": 28,
   "metadata": {},
   "outputs": [
    {
     "data": {
      "text/html": [
       "<div>\n",
       "<style scoped>\n",
       "    .dataframe tbody tr th:only-of-type {\n",
       "        vertical-align: middle;\n",
       "    }\n",
       "\n",
       "    .dataframe tbody tr th {\n",
       "        vertical-align: top;\n",
       "    }\n",
       "\n",
       "    .dataframe thead th {\n",
       "        text-align: right;\n",
       "    }\n",
       "</style>\n",
       "<table border=\"1\" class=\"dataframe\">\n",
       "  <thead>\n",
       "    <tr style=\"text-align: right;\">\n",
       "      <th></th>\n",
       "      <th>id</th>\n",
       "      <th>tagline</th>\n",
       "    </tr>\n",
       "  </thead>\n",
       "  <tbody>\n",
       "    <tr>\n",
       "      <th>0</th>\n",
       "      <td>19995</td>\n",
       "      <td>Enter the World of Pandora.</td>\n",
       "    </tr>\n",
       "    <tr>\n",
       "      <th>1</th>\n",
       "      <td>285</td>\n",
       "      <td>At the end of the world, the adventure begins.</td>\n",
       "    </tr>\n",
       "    <tr>\n",
       "      <th>2</th>\n",
       "      <td>206647</td>\n",
       "      <td>A Plan No One Escapes</td>\n",
       "    </tr>\n",
       "    <tr>\n",
       "      <th>3</th>\n",
       "      <td>49026</td>\n",
       "      <td>The Legend Ends</td>\n",
       "    </tr>\n",
       "    <tr>\n",
       "      <th>4</th>\n",
       "      <td>49529</td>\n",
       "      <td>Lost in our world, found in another.</td>\n",
       "    </tr>\n",
       "  </tbody>\n",
       "</table>\n",
       "</div>"
      ],
      "text/plain": [
       "       id                                         tagline\n",
       "0   19995                     Enter the World of Pandora.\n",
       "1     285  At the end of the world, the adventure begins.\n",
       "2  206647                           A Plan No One Escapes\n",
       "3   49026                                 The Legend Ends\n",
       "4   49529            Lost in our world, found in another."
      ]
     },
     "execution_count": 28,
     "metadata": {},
     "output_type": "execute_result"
    }
   ],
   "source": [
    "taglines.head()"
   ]
  },
  {
   "cell_type": "code",
   "execution_count": 29,
   "metadata": {},
   "outputs": [
    {
     "name": "stdout",
     "output_type": "stream",
     "text": [
      "      id        title  popularity release_date                   tagline\n",
      "0  10193  Toy Story 3   59.995418   2010-06-16  No toy gets left behind.\n",
      "1    863  Toy Story 2   73.575118   1999-10-30        The toys are back!\n",
      "2    862    Toy Story   73.640445   1995-10-30                       NaN\n",
      "(3, 5)\n"
     ]
    }
   ],
   "source": [
    "# Merge the toy_story and taglines tables with a left join\n",
    "toystory_tag = toy_story.merge(taglines,on='id',how='left')\n",
    "\n",
    "# Print the rows and shape of toystory_tag\n",
    "print(toystory_tag)\n",
    "print(toystory_tag.shape)\n"
   ]
  },
  {
   "cell_type": "code",
   "execution_count": 30,
   "metadata": {},
   "outputs": [
    {
     "name": "stdout",
     "output_type": "stream",
     "text": [
      "      id        title  popularity release_date                   tagline\n",
      "0  10193  Toy Story 3   59.995418   2010-06-16  No toy gets left behind.\n",
      "1    863  Toy Story 2   73.575118   1999-10-30        The toys are back!\n",
      "(2, 5)\n"
     ]
    }
   ],
   "source": [
    "# Merge the toy_story and taglines tables with a inner join\n",
    "toystory_tag = toy_story.merge(taglines,on='id')\n",
    "\n",
    "# Print the rows and shape of toystory_tag\n",
    "print(toystory_tag)\n",
    "print(toystory_tag.shape)"
   ]
  },
  {
   "cell_type": "markdown",
   "metadata": {},
   "source": [
    "That's fantastic work! If your goal is to enhance or enrich a dataset, then you do not want to lose any of your original data. \n",
    "\n",
    "A left join will do that by returning all of the rows of your left table, while using an inner join may result in lost data if it does not exist in both tables."
   ]
  },
  {
   "cell_type": "code",
   "execution_count": 31,
   "metadata": {},
   "outputs": [
    {
     "name": "stdout",
     "output_type": "stream",
     "text": [
      "2.266911751455907\n",
      "[ True  True]\n"
     ]
    }
   ],
   "source": [
    "import numpy as np\n",
    "np_2d = np.array([[5,6,1,2,3,4],[4,5,3,2,1,8],[9,10,3,7,6,5]])\n",
    "print(np.std(np_2d[1,:]))\n",
    "print(np.array([4,5]) < 6)"
   ]
  },
  {
   "cell_type": "markdown",
   "metadata": {},
   "source": [
    "<h3 style='color:orange;'>Right join to find unique movies</h3>\n",
    "Most of the recent big-budget science fiction movies can also be classified as action movies. You are given a table of science fiction movies called scifi_movies and another table of \n",
    "\n",
    "action movies called action_movies. Your goal is to find which movies are considered only science fiction movies. Once you have this table, you can merge the movies table in to see the \n",
    "\n",
    "movie names. Since this exercise is related to science fiction movies, use a right join as your superhero power to solve this problem.\n",
    "\n",
    "The movies, scifi_movies, and action_movies tables have been loaded for you."
   ]
  },
  {
   "cell_type": "code",
   "execution_count": 53,
   "metadata": {},
   "outputs": [
    {
     "name": "stdout",
     "output_type": "stream",
     "text": [
      "scifi_movies Data\n",
      "    movie_id            genre\n",
      "2         11  Science Fiction\n",
      "17        18  Science Fiction\n",
      "20        19  Science Fiction\n",
      "38        38  Science Fiction\n",
      "\n",
      "\n",
      "action_movies Data\n",
      "    movie_id   genre\n",
      "3         11  Action\n",
      "14        18  Action\n",
      "25        22  Action\n",
      "26        24  Action\n",
      "\n",
      "action_scifi data \n",
      "\n",
      "   movie_id genre_act        genre_sci\n",
      "0        11    Action  Science Fiction\n",
      "1        18    Action  Science Fiction\n",
      "2        19       NaN  Science Fiction\n",
      "3        38       NaN  Science Fiction\n",
      "\n",
      "the null values of scifi_only are : \n",
      "   movie_id genre_act        genre_sci\n",
      "2        19       NaN  Science Fiction\n",
      "3        38       NaN  Science Fiction\n",
      "4        62       NaN  Science Fiction\n"
     ]
    },
    {
     "data": {
      "text/html": [
       "<div>\n",
       "<style scoped>\n",
       "    .dataframe tbody tr th:only-of-type {\n",
       "        vertical-align: middle;\n",
       "    }\n",
       "\n",
       "    .dataframe tbody tr th {\n",
       "        vertical-align: top;\n",
       "    }\n",
       "\n",
       "    .dataframe thead th {\n",
       "        text-align: right;\n",
       "    }\n",
       "</style>\n",
       "<table border=\"1\" class=\"dataframe\">\n",
       "  <thead>\n",
       "    <tr style=\"text-align: right;\">\n",
       "      <th></th>\n",
       "      <th>id</th>\n",
       "      <th>title</th>\n",
       "      <th>popularity</th>\n",
       "      <th>release_date</th>\n",
       "      <th>movie_id</th>\n",
       "      <th>genre_act</th>\n",
       "      <th>genre_sci</th>\n",
       "    </tr>\n",
       "  </thead>\n",
       "  <tbody>\n",
       "    <tr>\n",
       "      <th>0</th>\n",
       "      <td>18841</td>\n",
       "      <td>The Lost Skeleton of Cadavra</td>\n",
       "      <td>1.680525</td>\n",
       "      <td>2001-09-12</td>\n",
       "      <td>18841</td>\n",
       "      <td>NaN</td>\n",
       "      <td>Science Fiction</td>\n",
       "    </tr>\n",
       "    <tr>\n",
       "      <th>1</th>\n",
       "      <td>26672</td>\n",
       "      <td>The Thief and the Cobbler</td>\n",
       "      <td>2.439184</td>\n",
       "      <td>1993-09-23</td>\n",
       "      <td>26672</td>\n",
       "      <td>NaN</td>\n",
       "      <td>Science Fiction</td>\n",
       "    </tr>\n",
       "    <tr>\n",
       "      <th>2</th>\n",
       "      <td>15301</td>\n",
       "      <td>Twilight Zone: The Movie</td>\n",
       "      <td>12.902975</td>\n",
       "      <td>1983-06-24</td>\n",
       "      <td>15301</td>\n",
       "      <td>NaN</td>\n",
       "      <td>Science Fiction</td>\n",
       "    </tr>\n",
       "  </tbody>\n",
       "</table>\n",
       "</div>"
      ],
      "text/plain": [
       "      id                         title  popularity release_date  movie_id  \\\n",
       "0  18841  The Lost Skeleton of Cadavra    1.680525   2001-09-12     18841   \n",
       "1  26672     The Thief and the Cobbler    2.439184   1993-09-23     26672   \n",
       "2  15301      Twilight Zone: The Movie   12.902975   1983-06-24     15301   \n",
       "\n",
       "  genre_act        genre_sci  \n",
       "0       NaN  Science Fiction  \n",
       "1       NaN  Science Fiction  \n",
       "2       NaN  Science Fiction  "
      ]
     },
     "execution_count": 53,
     "metadata": {},
     "output_type": "execute_result"
    }
   ],
   "source": [
    "scifi_movies=movie_to_genres[movie_to_genres['genre']=='Science Fiction']\n",
    "action_movies=movie_to_genres[movie_to_genres['genre']=='Action']\n",
    "print('scifi_movies Data')\n",
    "print(scifi_movies.head(4))\n",
    "print('')\n",
    "print('')\n",
    "print('action_movies Data')\n",
    "print(action_movies.head(4))\n",
    "# Merge action_movies to the scifi_movies with right join\n",
    "action_scifi = action_movies.merge(scifi_movies, on='movie_id', how='right',\n",
    "                                   suffixes=('_act','_sci'))\n",
    "print(\"\")\n",
    "print(\"action_scifi data \\n\")\n",
    "print(action_scifi.head(4))\n",
    "\n",
    "# From action_scifi, select only the rows where the genre_act column is null\n",
    "scifi_only = action_scifi[action_scifi['genre_act'].isnull()]\n",
    "print('')\n",
    "print('the null values of scifi_only are : ')\n",
    "print(scifi_only.head(3))\n",
    "\n",
    "# Merge the movies and scifi_only tables with an inner join\n",
    "movies_and_scifi_only = movies.merge(scifi_only,left_on='id',right_on='movie_id')\n",
    "\n",
    "# Print the first few rows and shape of movies_and_scifi_only\n",
    "movies_and_scifi_only.head(3)\n"
   ]
  },
  {
   "cell_type": "markdown",
   "metadata": {},
   "source": [
    "Well done, right join to the rescue! You found over 250 action only movies by merging action_movies and scifi_movies using a right join. With this, you were able to find the rows not \n",
    "found in the action_movies table. Additionally, you used the left_on and right_on arguments to merge in the movies table. Wow! You are a superhero."
   ]
  },
  {
   "cell_type": "markdown",
   "metadata": {},
   "source": [
    "<h3 style='color:orange;'>Popular genres with right join</h3>\n",
    "What are the genres of the most popular movies? To answer this question, you need to merge data from the movies and movie_to_genres tables. In a table called pop_movies, the top 10 \n",
    "\n",
    "most popular movies in the movies table have been selected. To ensure that you are analyzing all of the popular movies, merge it with the movie_to_genres table using a right join. To \n",
    "\n",
    "complete your analysis, count the number of different genres. Also, the two tables can be merged by the movie ID. However, in pop_movies that column is called id, and in \n",
    "\n",
    "movie_to_genres it's called movie_id.\n",
    "\n",
    "The pop_movies and movie_to_genres tables have been loaded for you."
   ]
  },
  {
   "cell_type": "code",
   "execution_count": 60,
   "metadata": {},
   "outputs": [
    {
     "data": {
      "text/html": [
       "<div>\n",
       "<style scoped>\n",
       "    .dataframe tbody tr th:only-of-type {\n",
       "        vertical-align: middle;\n",
       "    }\n",
       "\n",
       "    .dataframe tbody tr th {\n",
       "        vertical-align: top;\n",
       "    }\n",
       "\n",
       "    .dataframe thead th {\n",
       "        text-align: right;\n",
       "    }\n",
       "</style>\n",
       "<table border=\"1\" class=\"dataframe\">\n",
       "  <thead>\n",
       "    <tr style=\"text-align: right;\">\n",
       "      <th></th>\n",
       "      <th>id</th>\n",
       "      <th>title</th>\n",
       "      <th>popularity</th>\n",
       "      <th>release_date</th>\n",
       "    </tr>\n",
       "  </thead>\n",
       "  <tbody>\n",
       "    <tr>\n",
       "      <th>4546</th>\n",
       "      <td>211672</td>\n",
       "      <td>Minions</td>\n",
       "      <td>875.581305</td>\n",
       "      <td>2015-06-17</td>\n",
       "    </tr>\n",
       "    <tr>\n",
       "      <th>4343</th>\n",
       "      <td>157336</td>\n",
       "      <td>Interstellar</td>\n",
       "      <td>724.247784</td>\n",
       "      <td>2014-11-05</td>\n",
       "    </tr>\n",
       "    <tr>\n",
       "      <th>1966</th>\n",
       "      <td>293660</td>\n",
       "      <td>Deadpool</td>\n",
       "      <td>514.569956</td>\n",
       "      <td>2016-02-09</td>\n",
       "    </tr>\n",
       "    <tr>\n",
       "      <th>2423</th>\n",
       "      <td>118340</td>\n",
       "      <td>Guardians of the Galaxy</td>\n",
       "      <td>481.098624</td>\n",
       "      <td>2014-07-30</td>\n",
       "    </tr>\n",
       "    <tr>\n",
       "      <th>4220</th>\n",
       "      <td>76341</td>\n",
       "      <td>Mad Max: Fury Road</td>\n",
       "      <td>434.278564</td>\n",
       "      <td>2015-05-13</td>\n",
       "    </tr>\n",
       "    <tr>\n",
       "      <th>1867</th>\n",
       "      <td>135397</td>\n",
       "      <td>Jurassic World</td>\n",
       "      <td>418.708552</td>\n",
       "      <td>2015-06-09</td>\n",
       "    </tr>\n",
       "    <tr>\n",
       "      <th>4375</th>\n",
       "      <td>22</td>\n",
       "      <td>Pirates of the Caribbean: The Curse of the Bla...</td>\n",
       "      <td>271.972889</td>\n",
       "      <td>2003-07-09</td>\n",
       "    </tr>\n",
       "    <tr>\n",
       "      <th>1106</th>\n",
       "      <td>119450</td>\n",
       "      <td>Dawn of the Planet of the Apes</td>\n",
       "      <td>243.791743</td>\n",
       "      <td>2014-06-26</td>\n",
       "    </tr>\n",
       "    <tr>\n",
       "      <th>4216</th>\n",
       "      <td>131631</td>\n",
       "      <td>The Hunger Games: Mockingjay - Part 1</td>\n",
       "      <td>206.227151</td>\n",
       "      <td>2014-11-18</td>\n",
       "    </tr>\n",
       "    <tr>\n",
       "      <th>2614</th>\n",
       "      <td>177572</td>\n",
       "      <td>Big Hero 6</td>\n",
       "      <td>203.734590</td>\n",
       "      <td>2014-10-24</td>\n",
       "    </tr>\n",
       "  </tbody>\n",
       "</table>\n",
       "</div>"
      ],
      "text/plain": [
       "          id                                              title  popularity  \\\n",
       "4546  211672                                            Minions  875.581305   \n",
       "4343  157336                                       Interstellar  724.247784   \n",
       "1966  293660                                           Deadpool  514.569956   \n",
       "2423  118340                            Guardians of the Galaxy  481.098624   \n",
       "4220   76341                                 Mad Max: Fury Road  434.278564   \n",
       "1867  135397                                     Jurassic World  418.708552   \n",
       "4375      22  Pirates of the Caribbean: The Curse of the Bla...  271.972889   \n",
       "1106  119450                     Dawn of the Planet of the Apes  243.791743   \n",
       "4216  131631              The Hunger Games: Mockingjay - Part 1  206.227151   \n",
       "2614  177572                                         Big Hero 6  203.734590   \n",
       "\n",
       "     release_date  \n",
       "4546   2015-06-17  \n",
       "4343   2014-11-05  \n",
       "1966   2016-02-09  \n",
       "2423   2014-07-30  \n",
       "4220   2015-05-13  \n",
       "1867   2015-06-09  \n",
       "4375   2003-07-09  \n",
       "1106   2014-06-26  \n",
       "4216   2014-11-18  \n",
       "2614   2014-10-24  "
      ]
     },
     "execution_count": 60,
     "metadata": {},
     "output_type": "execute_result"
    }
   ],
   "source": [
    "pop_movies = movies.sort_values('popularity',ascending=False)\n",
    "pop_movies=pop_movies.head(10)\n",
    "pop_movies"
   ]
  },
  {
   "cell_type": "code",
   "execution_count": 61,
   "metadata": {},
   "outputs": [
    {
     "data": {
      "text/html": [
       "<div>\n",
       "<style scoped>\n",
       "    .dataframe tbody tr th:only-of-type {\n",
       "        vertical-align: middle;\n",
       "    }\n",
       "\n",
       "    .dataframe tbody tr th {\n",
       "        vertical-align: top;\n",
       "    }\n",
       "\n",
       "    .dataframe thead th {\n",
       "        text-align: right;\n",
       "    }\n",
       "</style>\n",
       "<table border=\"1\" class=\"dataframe\">\n",
       "  <thead>\n",
       "    <tr style=\"text-align: right;\">\n",
       "      <th></th>\n",
       "      <th>movie_id</th>\n",
       "      <th>genre</th>\n",
       "    </tr>\n",
       "  </thead>\n",
       "  <tbody>\n",
       "    <tr>\n",
       "      <th>0</th>\n",
       "      <td>5</td>\n",
       "      <td>Crime</td>\n",
       "    </tr>\n",
       "    <tr>\n",
       "      <th>1</th>\n",
       "      <td>5</td>\n",
       "      <td>Comedy</td>\n",
       "    </tr>\n",
       "    <tr>\n",
       "      <th>2</th>\n",
       "      <td>11</td>\n",
       "      <td>Science Fiction</td>\n",
       "    </tr>\n",
       "    <tr>\n",
       "      <th>3</th>\n",
       "      <td>11</td>\n",
       "      <td>Action</td>\n",
       "    </tr>\n",
       "    <tr>\n",
       "      <th>4</th>\n",
       "      <td>11</td>\n",
       "      <td>Adventure</td>\n",
       "    </tr>\n",
       "    <tr>\n",
       "      <th>5</th>\n",
       "      <td>12</td>\n",
       "      <td>Family</td>\n",
       "    </tr>\n",
       "    <tr>\n",
       "      <th>6</th>\n",
       "      <td>12</td>\n",
       "      <td>Animation</td>\n",
       "    </tr>\n",
       "    <tr>\n",
       "      <th>7</th>\n",
       "      <td>13</td>\n",
       "      <td>Comedy</td>\n",
       "    </tr>\n",
       "    <tr>\n",
       "      <th>8</th>\n",
       "      <td>13</td>\n",
       "      <td>Romance</td>\n",
       "    </tr>\n",
       "    <tr>\n",
       "      <th>9</th>\n",
       "      <td>13</td>\n",
       "      <td>Drama</td>\n",
       "    </tr>\n",
       "  </tbody>\n",
       "</table>\n",
       "</div>"
      ],
      "text/plain": [
       "   movie_id            genre\n",
       "0         5            Crime\n",
       "1         5           Comedy\n",
       "2        11  Science Fiction\n",
       "3        11           Action\n",
       "4        11        Adventure\n",
       "5        12           Family\n",
       "6        12        Animation\n",
       "7        13           Comedy\n",
       "8        13          Romance\n",
       "9        13            Drama"
      ]
     },
     "execution_count": 61,
     "metadata": {},
     "output_type": "execute_result"
    }
   ],
   "source": [
    "movie_to_genres.head(10)"
   ]
  },
  {
   "cell_type": "code",
   "execution_count": 62,
   "metadata": {},
   "outputs": [
    {
     "data": {
      "image/png": "[encoded data removed]",
      "text/plain": [
       "<Figure size 640x480 with 1 Axes>"
      ]
     },
     "metadata": {},
     "output_type": "display_data"
    }
   ],
   "source": [
    "# Use right join to merge the movie_to_genres and pop_movies tables\n",
    "genres_movies = movie_to_genres.merge(pop_movies, how='right', \n",
    "                                      left_on='movie_id', \n",
    "                                      right_on='id')\n",
    "\n",
    "# Count the number of genres\n",
    "genre_count = genres_movies.groupby('genre').agg({'id':'count'})\n",
    "\n",
    "# Plot a bar chart of the genre_count\n",
    "genre_count.plot(kind='bar')\n",
    "plt.show()"
   ]
  },
  {
   "cell_type": "markdown",
   "metadata": {},
   "source": [
    "Nice job! The right join ensured that you were analyzing all of the pop_movies. You see from the results that adventure and action are the most popular genres."
   ]
  }
 ],
 "metadata": {
  "kernelspec": {
   "display_name": "Python 3",
   "language": "python",
   "name": "python3"
  },
  "language_info": {
   "codemirror_mode": {
    "name": "ipython",
    "version": 3
   },
   "file_extension": ".py",
   "mimetype": "text/x-python",
   "name": "python",
   "nbconvert_exporter": "python",
   "pygments_lexer": "ipython3",
   "version": "3.12.4"
  }
 },
 "nbformat": 4,
 "nbformat_minor": 2
}
