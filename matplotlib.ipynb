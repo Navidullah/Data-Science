{
 "cells": [
  {
   "cell_type": "markdown",
   "metadata": {},
   "source": [
    "<h1 style=\"color: orange;\">Matplotlib</h1>\n",
    "<P>Matplotlib is a popular Python library used for creating static, animated, and interactive visualizations in Python. It is especially well-known for its ability to produce plots, such as line plots, scatter plots, bar charts, histograms, and more.</p>"
   ]
  },
  {
   "cell_type": "markdown",
   "metadata": {},
   "source": [
    "<h2 style=\"color: orange;\">Installation</h2>\n",
    "<p>pip install matplotlib</p>"
   ]
  },
  {
   "cell_type": "markdown",
   "metadata": {},
   "source": []
  }
 ],
 "metadata": {
  "language_info": {
   "name": "python"
  }
 },
 "nbformat": 4,
 "nbformat_minor": 2
}
