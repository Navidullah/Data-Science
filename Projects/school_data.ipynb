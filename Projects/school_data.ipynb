{
 "cells": [
  {
   "cell_type": "markdown",
   "metadata": {},
   "source": [
    "<h3 style=\"color:orange;\">Exploring NYC Public School Test Results Scores</h3>\n",
    "\n",
    "Every year, American high school students take SATs, which are standardized tests intended to measure literacy, numeracy, and writing skills. There are three sections - reading, math, and writing, each with a maximum score of 800 points. These tests are extremely important for students and colleges, as they play a pivotal role in the admissions process.\n",
    "\n",
    "Analyzing the performance of schools is important for a variety of stakeholders, including policy and education professionals, researchers, government, and even parents considering which school their children should attend.\n",
    "\n",
    "You have been provided with a dataset called schools.csv, which is previewed below.\n",
    "\n",
    "You have been tasked with answering three key questions about New York City (NYC) public school SAT performance."
   ]
  },
  {
   "cell_type": "code",
   "execution_count": 5,
   "metadata": {},
   "outputs": [
    {
     "data": {
      "text/html": [
       "<div>\n",
       "<style scoped>\n",
       "    .dataframe tbody tr th:only-of-type {\n",
       "        vertical-align: middle;\n",
       "    }\n",
       "\n",
       "    .dataframe tbody tr th {\n",
       "        vertical-align: top;\n",
       "    }\n",
       "\n",
       "    .dataframe thead th {\n",
       "        text-align: right;\n",
       "    }\n",
       "</style>\n",
       "<table border=\"1\" class=\"dataframe\">\n",
       "  <thead>\n",
       "    <tr style=\"text-align: right;\">\n",
       "      <th></th>\n",
       "      <th>school_name</th>\n",
       "      <th>borough</th>\n",
       "      <th>building_code</th>\n",
       "      <th>average_math</th>\n",
       "      <th>average_reading</th>\n",
       "      <th>average_writing</th>\n",
       "      <th>percent_tested</th>\n",
       "    </tr>\n",
       "  </thead>\n",
       "  <tbody>\n",
       "    <tr>\n",
       "      <th>0</th>\n",
       "      <td>\"New Explorations into Science, Technology and...</td>\n",
       "      <td>Manhattan</td>\n",
       "      <td>M022</td>\n",
       "      <td>657</td>\n",
       "      <td>601</td>\n",
       "      <td>601</td>\n",
       "      <td>NaN</td>\n",
       "    </tr>\n",
       "    <tr>\n",
       "      <th>1</th>\n",
       "      <td>Essex Street Academy</td>\n",
       "      <td>Manhattan</td>\n",
       "      <td>M445</td>\n",
       "      <td>395</td>\n",
       "      <td>411</td>\n",
       "      <td>387</td>\n",
       "      <td>78.9</td>\n",
       "    </tr>\n",
       "    <tr>\n",
       "      <th>2</th>\n",
       "      <td>Lower Manhattan Arts Academy</td>\n",
       "      <td>Manhattan</td>\n",
       "      <td>M445</td>\n",
       "      <td>418</td>\n",
       "      <td>428</td>\n",
       "      <td>415</td>\n",
       "      <td>65.1</td>\n",
       "    </tr>\n",
       "    <tr>\n",
       "      <th>3</th>\n",
       "      <td>High School for Dual Language and Asian Studies</td>\n",
       "      <td>Manhattan</td>\n",
       "      <td>M445</td>\n",
       "      <td>613</td>\n",
       "      <td>453</td>\n",
       "      <td>463</td>\n",
       "      <td>95.9</td>\n",
       "    </tr>\n",
       "    <tr>\n",
       "      <th>4</th>\n",
       "      <td>Henry Street School for International Studies</td>\n",
       "      <td>Manhattan</td>\n",
       "      <td>M056</td>\n",
       "      <td>410</td>\n",
       "      <td>406</td>\n",
       "      <td>381</td>\n",
       "      <td>59.7</td>\n",
       "    </tr>\n",
       "    <tr>\n",
       "      <th>...</th>\n",
       "      <td>...</td>\n",
       "      <td>...</td>\n",
       "      <td>...</td>\n",
       "      <td>...</td>\n",
       "      <td>...</td>\n",
       "      <td>...</td>\n",
       "      <td>...</td>\n",
       "    </tr>\n",
       "    <tr>\n",
       "      <th>370</th>\n",
       "      <td>\"Queens High School for Information, Research,...</td>\n",
       "      <td>Queens</td>\n",
       "      <td>Q465</td>\n",
       "      <td>372</td>\n",
       "      <td>362</td>\n",
       "      <td>352</td>\n",
       "      <td>44.6</td>\n",
       "    </tr>\n",
       "    <tr>\n",
       "      <th>371</th>\n",
       "      <td>Rockaway Park High School for Environmental Su...</td>\n",
       "      <td>Queens</td>\n",
       "      <td>Q410</td>\n",
       "      <td>357</td>\n",
       "      <td>381</td>\n",
       "      <td>376</td>\n",
       "      <td>38.5</td>\n",
       "    </tr>\n",
       "    <tr>\n",
       "      <th>372</th>\n",
       "      <td>Channel View School for Research</td>\n",
       "      <td>Queens</td>\n",
       "      <td>Q410</td>\n",
       "      <td>427</td>\n",
       "      <td>430</td>\n",
       "      <td>423</td>\n",
       "      <td>76.6</td>\n",
       "    </tr>\n",
       "    <tr>\n",
       "      <th>373</th>\n",
       "      <td>Rockaway Collegiate High School</td>\n",
       "      <td>Queens</td>\n",
       "      <td>Q410</td>\n",
       "      <td>399</td>\n",
       "      <td>403</td>\n",
       "      <td>405</td>\n",
       "      <td>46.5</td>\n",
       "    </tr>\n",
       "    <tr>\n",
       "      <th>374</th>\n",
       "      <td>Scholars' Academy</td>\n",
       "      <td>Queens</td>\n",
       "      <td>Q180</td>\n",
       "      <td>588</td>\n",
       "      <td>560</td>\n",
       "      <td>568</td>\n",
       "      <td>99.2</td>\n",
       "    </tr>\n",
       "  </tbody>\n",
       "</table>\n",
       "<p>375 rows × 7 columns</p>\n",
       "</div>"
      ],
      "text/plain": [
       "                                           school_name    borough  \\\n",
       "0    \"New Explorations into Science, Technology and...  Manhattan   \n",
       "1                                 Essex Street Academy  Manhattan   \n",
       "2                         Lower Manhattan Arts Academy  Manhattan   \n",
       "3      High School for Dual Language and Asian Studies  Manhattan   \n",
       "4        Henry Street School for International Studies  Manhattan   \n",
       "..                                                 ...        ...   \n",
       "370  \"Queens High School for Information, Research,...     Queens   \n",
       "371  Rockaway Park High School for Environmental Su...     Queens   \n",
       "372                   Channel View School for Research     Queens   \n",
       "373                    Rockaway Collegiate High School     Queens   \n",
       "374                                  Scholars' Academy     Queens   \n",
       "\n",
       "    building_code  average_math  average_reading  average_writing  \\\n",
       "0            M022           657              601              601   \n",
       "1            M445           395              411              387   \n",
       "2            M445           418              428              415   \n",
       "3            M445           613              453              463   \n",
       "4            M056           410              406              381   \n",
       "..            ...           ...              ...              ...   \n",
       "370          Q465           372              362              352   \n",
       "371          Q410           357              381              376   \n",
       "372          Q410           427              430              423   \n",
       "373          Q410           399              403              405   \n",
       "374          Q180           588              560              568   \n",
       "\n",
       "     percent_tested  \n",
       "0               NaN  \n",
       "1              78.9  \n",
       "2              65.1  \n",
       "3              95.9  \n",
       "4              59.7  \n",
       "..              ...  \n",
       "370            44.6  \n",
       "371            38.5  \n",
       "372            76.6  \n",
       "373            46.5  \n",
       "374            99.2  \n",
       "\n",
       "[375 rows x 7 columns]"
      ]
     },
     "execution_count": 5,
     "metadata": {},
     "output_type": "execute_result"
    }
   ],
   "source": [
    "# Re-run this cell \n",
    "import pandas as pd\n",
    "\n",
    "\n",
    "# Read in the data\n",
    "schools = pd.read_csv('C:/Users/RBTG/OneDrive/Desktop/Data science/data/school.csv')\n",
    "\n",
    "# Preview the data\n",
    "schools"
   ]
  },
  {
   "cell_type": "markdown",
   "metadata": {},
   "source": [
    "<h4 style=\"color:orange;\">checking for NAN or missing values</h4>"
   ]
  },
  {
   "cell_type": "code",
   "execution_count": 6,
   "metadata": {},
   "outputs": [
    {
     "name": "stdout",
     "output_type": "stream",
     "text": [
      "school_name         0\n",
      "borough             0\n",
      "building_code       0\n",
      "average_math        0\n",
      "average_reading     0\n",
      "average_writing     0\n",
      "percent_tested     20\n",
      "dtype: int64\n"
     ]
    }
   ],
   "source": [
    "print(schools.isna().sum())"
   ]
  },
  {
   "cell_type": "markdown",
   "metadata": {},
   "source": [
    "<h4 style=\"color:orange;\">Replacing missing values with 0</h4>"
   ]
  },
  {
   "cell_type": "code",
   "execution_count": 8,
   "metadata": {},
   "outputs": [
    {
     "name": "stdout",
     "output_type": "stream",
     "text": [
      "school_name        0\n",
      "borough            0\n",
      "building_code      0\n",
      "average_math       0\n",
      "average_reading    0\n",
      "average_writing    0\n",
      "percent_tested     0\n",
      "dtype: int64\n"
     ]
    }
   ],
   "source": [
    "schools=schools.fillna(0)\n",
    "print(schools.isna().sum())"
   ]
  },
  {
   "cell_type": "markdown",
   "metadata": {},
   "source": [
    "<h4 style=\"color:orange;\">Which NYC schools have the best math results?</h4>"
   ]
  },
  {
   "cell_type": "code",
   "execution_count": 9,
   "metadata": {},
   "outputs": [
    {
     "name": "stdout",
     "output_type": "stream",
     "text": [
      "                                           school_name  average_math\n",
      "88                              Stuyvesant High School           754\n",
      "170                       Bronx High School of Science           714\n",
      "93                 Staten Island Technical High School           711\n",
      "365  Queens High School for the Sciences at York Co...           701\n",
      "68   \"High School for Mathematics, Science, and Eng...           683\n",
      "280                     Brooklyn Technical High School           682\n",
      "333                        Townsend Harris High School           680\n",
      "174  High School of American Studies at Lehman College           669\n",
      "0    \"New Explorations into Science, Technology and...           657\n",
      "45                       Eleanor Roosevelt High School           641\n"
     ]
    }
   ],
   "source": [
    "best_math_schools = schools[[\"school_name\",\"average_math\"]].sort_values(\"average_math\",ascending=False)\n",
    "best_math_schools = best_math_schools[best_math_schools[\"average_math\"] >= 0.8*800]\n",
    "\n",
    "print(best_math_schools)"
   ]
  },
  {
   "cell_type": "markdown",
   "metadata": {},
   "source": [
    "<h4 style=\"color:orange;\">What are the top 10 performing schools based on the combined SAT scores?</h4>"
   ]
  },
  {
   "cell_type": "code",
   "execution_count": 10,
   "metadata": {},
   "outputs": [
    {
     "name": "stdout",
     "output_type": "stream",
     "text": [
      "                                           school_name  total_SAT\n",
      "88                              Stuyvesant High School       2144\n",
      "170                       Bronx High School of Science       2041\n",
      "93                 Staten Island Technical High School       2041\n",
      "174  High School of American Studies at Lehman College       2013\n",
      "333                        Townsend Harris High School       1981\n",
      "..                                                 ...        ...\n",
      "171              Kingsbridge International High School        987\n",
      "337             Pan American International High School        978\n",
      "295      International High School at Prospect Heights        946\n",
      "247                          Multicultural High School        926\n",
      "182   Pan American International High School at Monroe        924\n",
      "\n",
      "[375 rows x 2 columns]\n",
      "                                           school_name  total_SAT\n",
      "88                              Stuyvesant High School       2144\n",
      "170                       Bronx High School of Science       2041\n",
      "93                 Staten Island Technical High School       2041\n",
      "174  High School of American Studies at Lehman College       2013\n",
      "333                        Townsend Harris High School       1981\n",
      "365  Queens High School for the Sciences at York Co...       1947\n",
      "5                       Bard High School Early College       1914\n",
      "280                     Brooklyn Technical High School       1896\n",
      "45                       Eleanor Roosevelt High School       1889\n",
      "68   \"High School for Mathematics, Science, and Eng...       1889\n"
     ]
    }
   ],
   "source": [
    "schools[\"total_SAT\"] = schools['average_math'] + schools['average_reading'] + schools['average_writing']\n",
    "schools\n",
    "top_10_schools = schools[['school_name','total_SAT']].sort_values('total_SAT',ascending=False)\n",
    "print(top_10_schools)\n",
    "top_10_schools = top_10_schools.iloc[0:10,:]\n",
    "print(top_10_schools)"
   ]
  },
  {
   "cell_type": "markdown",
   "metadata": {},
   "source": [
    "<h4 style=\"color:orange;\">Which single borough has the largest standard deviation in the combined SAT score?</h4>"
   ]
  },
  {
   "cell_type": "code",
   "execution_count": 12,
   "metadata": {},
   "outputs": [
    {
     "name": "stdout",
     "output_type": "stream",
     "text": [
      "               num_schools  average_SAT  std_SAT\n",
      "borough                                         \n",
      "Bronx                   98      1202.72   150.39\n",
      "Brooklyn               109      1230.26   154.87\n",
      "Manhattan               89      1340.13   230.29\n",
      "Queens                  69      1345.48   195.25\n",
      "Staten Island           10      1439.00   222.30\n",
      "\n",
      "           num_schools  average_SAT  std_SAT\n",
      "borough                                     \n",
      "Manhattan           89      1340.13   230.29\n"
     ]
    }
   ],
   "source": [
    "df1 = schools.groupby('borough').agg(\n",
    "    num_schools=('school_name', 'nunique'),\n",
    "    average_SAT=('total_SAT', 'mean'),\n",
    "    std_SAT=('total_SAT', 'std')\n",
    ").round(2)\n",
    "\n",
    "print(df1)\n",
    "print('')\n",
    "largest_std_dev = df1[df1['std_SAT']==df1['std_SAT'].max()]\n",
    "print(largest_std_dev)"
   ]
  },
  {
   "cell_type": "markdown",
   "metadata": {},
   "source": [
    "<span style='color:orange; font-weight:bold;'>Manhathan</span> has the largest standard deviation in the combined SAT score."
   ]
  }
 ],
 "metadata": {
  "kernelspec": {
   "display_name": "Python 3",
   "language": "python",
   "name": "python3"
  },
  "language_info": {
   "codemirror_mode": {
    "name": "ipython",
    "version": 3
   },
   "file_extension": ".py",
   "mimetype": "text/x-python",
   "name": "python",
   "nbconvert_exporter": "python",
   "pygments_lexer": "ipython3",
   "version": "3.12.4"
  }
 },
 "nbformat": 4,
 "nbformat_minor": 2
}
