{
 "cells": [
  {
   "cell_type": "markdown",
   "metadata": {},
   "source": [
    "<h2 style=\"color:orange;\">Filter the Pandas DataFrame</h2>"
   ]
  },
  {
   "cell_type": "markdown",
   "metadata": {},
   "source": [
    "<p>Remember that cars dataset, containing the cars per 1000 people (cars_per_cap) and whether people drive right (drives_right) for different countries (country)? The code that imports this data in CSV format into Python as a DataFrame is included in the script.\n",
    "\n",
    "Let's start simple and try to find all observations in cars where drives_right is True.\n",
    "\n",
    "drives_right is a boolean column, so you'll have to extract it as a Series and then use this boolean Series to select observations from cars</p>"
   ]
  },
  {
   "cell_type": "code",
   "execution_count": 11,
   "metadata": {},
   "outputs": [
    {
     "name": "stdout",
     "output_type": "stream",
     "text": [
      "           country drives_right  cars_per_cap\n",
      "US   United States         True           809\n",
      "AUS      Australia        False           731\n",
      "JPN          Japan        False           588\n",
      "IN           India        False            18\n",
      "RU          Russia         True           200\n",
      "MOR        Morocco         True            70\n",
      "EG           Egypt         True            45\n",
      "           country drives_right  cars_per_cap\n",
      "US   United States         True           809\n",
      "MOR        Morocco         True            70\n",
      "EG           Egypt         True            45\n"
     ]
    }
   ],
   "source": [
    "# Import pandas as pd\n",
    "import pandas as pd\n",
    "\n",
    "# Import the cars.csv data: cars\n",
    "cars = pd.read_csv('C:/Users/RBTG/OneDrive/Desktop/Data science/data/cars.txt',index_col=0)\n",
    "print(cars)\n",
    "# Extract drives_right column as Series: dr\n",
    "dr=cars[cars[\"drives_right\"]==\"True\"]\n",
    "# Print dr\n",
    "print(dr)"
   ]
  },
  {
   "cell_type": "markdown",
   "metadata": {},
   "source": [
    "<h3 style=\"color:orange;\">Cars per capita<h3>\n",
    "<p style=\"font-size:18px;\">Let's stick to the cars data some more. This time you want to find out which countries have a high cars per capita figure. In other words, in which countries do many people have a car, or maybe multiple cars.\n",
    "Similar to the previous example, you'll want to build up a boolean Series, that you can then use to subset the cars DataFrame to select certain observations. If you want to do this in a one-liner, that's perfectly fine!</p>"
   ]
  },
  {
   "cell_type": "markdown",
   "metadata": {},
   "source": [
    "<li>Select the cars_per_cap column from cars as a Pandas Series and store it as cpc.<br>\n",
    "Use cpc in combination with a comparison operator and 500. You want to end up with a boolean Series that's True if the corresponding country has a cars_per_cap of more than 500 and False otherwise. Store this boolean Series as many_cars.</li>\n",
    "<li>Use many_cars to subset cars, similar to what you did before. Store the result as car_maniac.</li>\n",
    "Print out car_maniac to see if you got it right."
   ]
  },
  {
   "cell_type": "code",
   "execution_count": 17,
   "metadata": {},
   "outputs": [
    {
     "name": "stdout",
     "output_type": "stream",
     "text": [
      "US      True\n",
      "AUS     True\n",
      "JPN     True\n",
      "IN     False\n",
      "RU     False\n",
      "MOR    False\n",
      "EG     False\n",
      "Name: cars_per_cap, dtype: bool\n",
      "\n",
      "           country drives_right  cars_per_cap\n",
      "US   United States         True           809\n",
      "AUS      Australia        False           731\n",
      "JPN          Japan        False           588\n"
     ]
    }
   ],
   "source": [
    "cpc = cars['cars_per_cap'] > 500\n",
    "print(cpc)\n",
    "print()\n",
    "car_maniac = cars[cpc]\n",
    "print(car_maniac)"
   ]
  },
  {
   "cell_type": "markdown",
   "metadata": {},
   "source": [
    "<p>Remember about np.logical_and(), np.logical_or() and np.logical_not(), the NumPy variants of the and, or and not operators? You can also use them on Pandas Series to do more advanced filtering operations.\n",
    "Take this example that selects the observations that have a cars_per_cap between 10 and 80. Try out these lines of code step by step to see what's happening.<br>\n",
    "\n",
    "cpc = cars['cars_per_cap']<br>\n",
    "between = np.logical_and(cpc > 10, cpc < 80)<br>\n",
    "medium = cars[between]</p>\n",
    "\n",
    "<li>Use the code sample provided to create a DataFrame medium, that includes all the observations of cars that have a cars_per_cap between 100 and 500.</li>\n",
    "<li>Print out medium.</li>"
   ]
  },
  {
   "cell_type": "code",
   "execution_count": 19,
   "metadata": {},
   "outputs": [
    {
     "name": "stdout",
     "output_type": "stream",
     "text": [
      "   country drives_right  cars_per_cap\n",
      "RU  Russia         True           200\n"
     ]
    }
   ],
   "source": [
    "import numpy as np\n",
    "# Create medium: observations with cars_per_cap between 100 and 500\n",
    "cpc = cars['cars_per_cap']\n",
    "between = np.logical_and(cpc > 100, cpc < 500)\n",
    "medium = cars[between]\n",
    "\n",
    "\n",
    "\n",
    "# Print medium\n",
    "print(medium)"
   ]
  }
 ],
 "metadata": {
  "kernelspec": {
   "display_name": "Python 3",
   "language": "python",
   "name": "python3"
  },
  "language_info": {
   "codemirror_mode": {
    "name": "ipython",
    "version": 3
   },
   "file_extension": ".py",
   "mimetype": "text/x-python",
   "name": "python",
   "nbconvert_exporter": "python",
   "pygments_lexer": "ipython3",
   "version": "3.12.4"
  }
 },
 "nbformat": 4,
 "nbformat_minor": 2
}
