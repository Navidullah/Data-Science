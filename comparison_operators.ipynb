{
 "cells": [
  {
   "cell_type": "markdown",
   "metadata": {},
   "source": [
    "<span style=\"color:orange;\">Comparison Operators</span>\n",
    "<p style=\"font-size:18px;\"><span style=\"color:orange;\">Equality </span>to check if two Python values, or variables, are equal you can use ==. To check for inequality, you need !=. As a refresher, have a look at the following examples that all result in True. Feel free to try them out this.\n",
    "\n",
    "2 == (1 + 1)<br>\n",
    "\"intermediate\" != \"python\"<br>\n",
    "True != False<br>\n",
    "\"Python\" != \"python\"<br>\n",
    "When you write these comparisons in a script, you will need to wrap a print() function around them to see the output.</p>"
   ]
  },
  {
   "cell_type": "code",
   "execution_count": 5,
   "metadata": {},
   "outputs": [
    {
     "name": "stdout",
     "output_type": "stream",
     "text": [
      "False\n",
      "True\n",
      "False\n",
      "True\n"
     ]
    }
   ],
   "source": [
    "# Comparison of booleans\n",
    "print(True == False)\n",
    "\n",
    "# Comparison of integers\n",
    "print(-5 * 15 !=75)\n",
    "\n",
    "# Comparison of strings\n",
    "print(\"pyscript\"==\"PyScript\")\n",
    "\n",
    "# Compare a boolean with an integer\n",
    "print(True == 1)"
   ]
  },
  {
   "cell_type": "markdown",
   "metadata": {},
   "source": [
    "<p><span style=\"color:orange;\">Greater and less than</span>\n",
    " signs, < and > in Python. You can combine them with an equals sign: <= and >=. <span style=\"color:red;\n",
    " font-weight:bold;\">Pay attention:</span> <= is valid syntax, but =< is not.\n",
    "\n",
    "All Python expressions in the following code chunk evaluate to True:<br>\n",
    "\n",
    "3 < 4<br>\n",
    "3 <= 4<br>\n",
    "\"alpha\" <= \"beta\"<br>\n",
    "Remember that for string comparison, Python determines the relationship based on alphabetical order.</p>\n",
    "\n",
    "Write Python expressions, wrapped in a print() function, to check whether:<br>\n",
    "x is greater than or equal to -10. x has already been defined for you.<br>\n",
    "\"test\" is less than or equal to y. y has already been defined for you.<br>\n",
    "True is greater than False.<br>"
   ]
  },
  {
   "cell_type": "code",
   "execution_count": 6,
   "metadata": {},
   "outputs": [
    {
     "name": "stdout",
     "output_type": "stream",
     "text": [
      "False\n",
      "True\n",
      "True\n"
     ]
    }
   ],
   "source": [
    "# Comparison of integers\n",
    "x = -3 * 6\n",
    "print(x>=-10)\n",
    "\n",
    "\n",
    "# Comparison of strings\n",
    "y = \"test\"\n",
    "print(y>=\"test\")\n",
    "\n",
    "\n",
    "# Comparison of booleans\n",
    "print(True>False)"
   ]
  },
  {
   "cell_type": "markdown",
   "metadata": {},
   "source": [
    "<sapn style=\"color:orange;\">Compare arrays</span>\n",
    "Out of the box, you can also use comparison operators with NumPy arrays.\n",
    "\n",
    "Remember areas, the list of area measurements for different rooms in your house from Introduction to Python? This time there's two NumPy arrays: my_house and your_house. They both contain the areas for the kitchen, living room, bedroom and bathroom in the same order, so you can compare them.<br>\n",
    "\n",
    "Using comparison operators, generate boolean arrays that answer the following questions:<br>\n",
    "\n",
    "<li>Which areas in my_house are greater than or equal to 18?</li>\n",
    "<li>You can also compare two NumPy arrays element-wise. Which areas in my_house are smaller than the ones in your_house?</li>\n",
    "<li>Make sure to wrap both commands in a print() statement so that you can inspect the output!</li>"
   ]
  },
  {
   "cell_type": "code",
   "execution_count": 7,
   "metadata": {},
   "outputs": [
    {
     "name": "stdout",
     "output_type": "stream",
     "text": [
      "[ True  True False False]\n",
      "[False  True  True False]\n"
     ]
    }
   ],
   "source": [
    "# Create arrays\n",
    "import numpy as np\n",
    "my_house = np.array([18.0, 20.0, 10.75, 9.50])\n",
    "your_house = np.array([14.0, 24.0, 14.25, 9.0])\n",
    "\n",
    "# my_house greater than or equal to 18\n",
    "print(my_house >= 18)\n",
    "\n",
    "# my_house less than your_house\n",
    "print(my_house < your_house)"
   ]
  }
 ],
 "metadata": {
  "kernelspec": {
   "display_name": "Python 3",
   "language": "python",
   "name": "python3"
  },
  "language_info": {
   "codemirror_mode": {
    "name": "ipython",
    "version": 3
   },
   "file_extension": ".py",
   "mimetype": "text/x-python",
   "name": "python",
   "nbconvert_exporter": "python",
   "pygments_lexer": "ipython3",
   "version": "3.12.4"
  }
 },
 "nbformat": 4,
 "nbformat_minor": 2
}
