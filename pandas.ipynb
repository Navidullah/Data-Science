{
 "cells": [
  {
   "cell_type": "markdown",
   "metadata": {},
   "source": [
    "<h1 style=\"color:orange;\">Pandas in Python</h1>\n",
    "<p style=\"font-size:18px;\">Pandas is a powerful and popular data manipulation and analysis library in Python. It provides data structures like Series and DataFrame that are well-suited for working with structured data, such as spreadsheets or SQL tables. Pandas makes it easy to clean, analyze, and visualize data, making it a fundamental tool for data scientists, analysts, and engineers. Here's an overview of how to use Pandas in Python:</p>"
   ]
  },
  {
   "cell_type": "markdown",
   "metadata": {},
   "source": [
    "<h3 style=\"color:orange;\">Dictionary to DataFrame</h3>\n",
    "<p style=\"font-size:18px;\">Pandas is an open source library, providing high-performance, easy-to-use data structures and data analysis tools for Python. Sounds promising!\n",
    "\n",
    "The DataFrame is one of Pandas' most important data structures. It's basically a way to store tabular data where you can label the rows and the columns. One way to build a DataFrame is from a dictionary.\n",
    "\n",
    "In the exercises that follow you will be working with vehicle data from different countries. Each observation corresponds to a country and the columns give information about the number of vehicles per capita, whether people drive left or right, and so on.</p>\n",
    "\n",
    "<li>names, containing the country names for which data is available.</li>\n",
    "<li>dr, a list with booleans that tells whether people drive left or right in the corresponding country.</li>\n",
    "<li>cpc, the number of motor vehicles per 1000 people in the corresponding country.</li>\n",
    "\n",
    "<p>Each dictionary key is a column label and each value is a list which contains the column elements.</p>"
   ]
  },
  {
   "cell_type": "markdown",
   "metadata": {},
   "source": [
    "<li>Import pandas as pd.</li>\n",
    "<li>Use the pre-defined lists to create a dictionary called my_dict. There should be three key value pairs:</li>\n",
    "<li>key 'country' and value names.</li>\n",
    "<li>key 'drives_right' and value dr.</li>\n",
    "<li>key 'cars_per_cap' and value cpc.</li>\n",
    "<li>Use pd.DataFrame() to turn your dict into a DataFrame called cars.</li>\n",
    "<li>Print out cars and see how beautiful it is.</li>"
   ]
  },
  {
   "cell_type": "code",
   "execution_count": 15,
   "metadata": {},
   "outputs": [
    {
     "name": "stdout",
     "output_type": "stream",
     "text": [
      "         country  drives_right  cars_per_cap\n",
      "0  United States          True           809\n",
      "1      Australia         False           731\n",
      "2          Japan         False           588\n",
      "3          India         False            18\n",
      "4         Russia          True           200\n",
      "5        Morocco          True            70\n",
      "6          Egypt          True            45\n"
     ]
    }
   ],
   "source": [
    "# Pre-defined lists\n",
    "names = ['United States', 'Australia', 'Japan', 'India', 'Russia', 'Morocco', 'Egypt']\n",
    "dr =  [True, False, False, False, True, True, True]\n",
    "cpc = [809, 731, 588, 18, 200, 70, 45]\n",
    "\n",
    "# Import pandas as pd\n",
    "import pandas as pd\n",
    "\n",
    "\n",
    "# Create dictionary my_dict with three key:value pairs: my_dict\n",
    "my_dict ={\n",
    "    'country': names,\n",
    "    'drives_right':dr,\n",
    "    'cars_per_cap':cpc\n",
    "}\n",
    "\n",
    "\n",
    "# Build a DataFrame cars from my_dict: cars\n",
    "cars = pd.DataFrame(my_dict)\n",
    "\n",
    "\n",
    "# Print cars\n",
    "print(cars)"
   ]
  },
  {
   "cell_type": "markdown",
   "metadata": {},
   "source": [
    "<p>The Python code that solves the previous exercise is included in the script. Have you noticed that the row labels (i.e. the labels for the different observations) were automatically set to integers from 0 up to 6?\n",
    "\n",
    "To solve this a list row_labels has been created. You can use it to specify the row labels of the cars DataFrame. You do this by setting the index attribute of cars, that you can access as cars.index.</p>\n",
    "\n",
    "<li>Specify the row labels by setting cars.index equal to row_labels.</li>\n",
    "<li>Print out cars again and check if the row labels are correct this time.</li>"
   ]
  },
  {
   "cell_type": "code",
   "execution_count": 16,
   "metadata": {},
   "outputs": [
    {
     "name": "stdout",
     "output_type": "stream",
     "text": [
      "           country  drives_right  cars_per_cap\n",
      "US   United States          True           809\n",
      "AUS      Australia         False           731\n",
      "JPN          Japan         False           588\n",
      "IN           India         False            18\n",
      "RU          Russia          True           200\n",
      "MOR        Morocco          True            70\n",
      "EG           Egypt          True            45\n"
     ]
    }
   ],
   "source": [
    "import pandas as pd\n",
    "\n",
    "# Build cars DataFrame\n",
    "names = ['United States', 'Australia', 'Japan', 'India', 'Russia', 'Morocco', 'Egypt']\n",
    "dr =  [True, False, False, False, True, True, True]\n",
    "cpc = [809, 731, 588, 18, 200, 70, 45]\n",
    "cars_dict = { 'country':names, 'drives_right':dr, 'cars_per_cap':cpc }\n",
    "cars = pd.DataFrame(cars_dict)\n",
    "\n",
    "\n",
    "# Definition of row_labels\n",
    "row_labels = ['US', 'AUS', 'JPN', 'IN', 'RU', 'MOR', 'EG']\n",
    "\n",
    "# Specify row labels of cars\n",
    "cars.index =row_labels\n",
    "\n",
    "\n",
    "# Print cars again\n",
    "print(cars)"
   ]
  },
  {
   "cell_type": "markdown",
   "metadata": {},
   "source": [
    "<h3 style=\"color:orange;\">CSV to DataFrame</h3>\n",
    "<p>Putting data in a dictionary and then building a DataFrame works, but it's not very efficient. What if you're dealing with millions of observations? In those cases, the data is typically available as files with a regular structure. One of those file types is the CSV file, which is short for \"comma-separated values\".\n",
    "\n",
    "To import CSV data into Python as a Pandas DataFrame you can use read_csv().\n",
    "\n",
    "Let's explore this function with the same cars data from the previous exercises. This time, however, the data is available in a CSV file, named cars.csv. It is available in your current working directory, so the path to the file is simply 'cars.csv'.\n",
    "<li>To import CSV files you still need the pandas package: import it as pd.</li>\n",
    "<li>Use pd.read_csv() to import cars.csv data as a DataFrame. Store this DataFrame as cars.</li>\n",
    "<li>Print out cars. Does everything look OK?</li>\n",
    "</p>"
   ]
  },
  {
   "cell_type": "code",
   "execution_count": 17,
   "metadata": {},
   "outputs": [
    {
     "name": "stdout",
     "output_type": "stream",
     "text": [
      "  Unnamed: 0        country drives_right  cars_per_cap\n",
      "0         US  United States         True           809\n",
      "1        AUS      Australia        False           731\n",
      "2        JPN          Japan        False           588\n",
      "3         IN          India        False            18\n",
      "4         RU         Russia         True           200\n",
      "5        MOR        Morocco         True            70\n",
      "6         EG          Egypt         True            45\n"
     ]
    }
   ],
   "source": [
    "# Import pandas as pd\n",
    "import pandas as pd\n",
    "\n",
    "\n",
    "# Import the cars.csv data: cars\n",
    "cars = pd.read_csv('C:/Users/RBTG/OneDrive/Desktop/Data science/data/cars.txt')\n",
    "\n",
    "\n",
    "\n",
    "\n",
    "# Print out cars\n",
    "print(cars)"
   ]
  }
 ],
 "metadata": {
  "kernelspec": {
   "display_name": "Python 3",
   "language": "python",
   "name": "python3"
  },
  "language_info": {
   "codemirror_mode": {
    "name": "ipython",
    "version": 3
   },
   "file_extension": ".py",
   "mimetype": "text/x-python",
   "name": "python",
   "nbconvert_exporter": "python",
   "pygments_lexer": "ipython3",
   "version": "3.12.4"
  }
 },
 "nbformat": 4,
 "nbformat_minor": 2
}
